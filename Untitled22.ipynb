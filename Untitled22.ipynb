{
  "nbformat": 4,
  "nbformat_minor": 0,
  "metadata": {
    "colab": {
      "provenance": [],
      "authorship_tag": "ABX9TyPheKpF9g2WoSD7R5XR2BRD",
      "include_colab_link": true
    },
    "kernelspec": {
      "name": "python3",
      "display_name": "Python 3"
    },
    "language_info": {
      "name": "python"
    }
  },
  "cells": [
    {
      "cell_type": "markdown",
      "metadata": {
        "id": "view-in-github",
        "colab_type": "text"
      },
      "source": [
        "<a href=\"https://colab.research.google.com/github/Chetirebochki/PythonLibruary/blob/main/Untitled22.ipynb\" target=\"_parent\"><img src=\"https://colab.research.google.com/assets/colab-badge.svg\" alt=\"Open In Colab\"/></a>"
      ]
    },
    {
      "cell_type": "code",
      "execution_count": null,
      "metadata": {
        "id": "_-yjLoi_jrUm"
      },
      "outputs": [],
      "source": []
    },
    {
      "cell_type": "code",
      "source": [
        "import pandas as pd\n",
        "import scipy.stats as sps\n",
        "my_series = pd.date_range(\"20220101\", periods=10)\n",
        "my_series1=pd.Series(sps.norm.rvs(size=10), index=my_series)\n",
        "print(my_series1>0)"
      ],
      "metadata": {
        "colab": {
          "base_uri": "https://localhost:8080/"
        },
        "id": "B1ZPUowqjxgt",
        "outputId": "63f75874-e246-4543-cb11-66e6278f907e"
      },
      "execution_count": null,
      "outputs": [
        {
          "output_type": "stream",
          "name": "stdout",
          "text": [
            "2022-01-01     True\n",
            "2022-01-02    False\n",
            "2022-01-03     True\n",
            "2022-01-04    False\n",
            "2022-01-05     True\n",
            "2022-01-06     True\n",
            "2022-01-07    False\n",
            "2022-01-08     True\n",
            "2022-01-09     True\n",
            "2022-01-10    False\n",
            "Freq: D, dtype: bool\n"
          ]
        }
      ]
    },
    {
      "cell_type": "code",
      "source": [
        "import pandas as pd\n",
        "import scipy.stats as sps\n",
        "my_series = pd.date_range(\"20220101\", periods=10)\n",
        "my_series1=pd.Series(sps.norm.rvs(size=10), index=my_series)\n",
        "print(my_series1[my_series1>0])"
      ],
      "metadata": {
        "colab": {
          "base_uri": "https://localhost:8080/"
        },
        "id": "WjnVkui3kWXB",
        "outputId": "e8f98b55-effd-4306-b9cb-a5f58cb072b6"
      },
      "execution_count": null,
      "outputs": [
        {
          "output_type": "stream",
          "name": "stdout",
          "text": [
            "2022-01-01    1.256367\n",
            "2022-01-02    0.758101\n",
            "2022-01-03    1.763495\n",
            "2022-01-04    1.126906\n",
            "2022-01-07    0.127926\n",
            "2022-01-08    1.216452\n",
            "dtype: float64\n"
          ]
        }
      ]
    },
    {
      "cell_type": "code",
      "source": [
        "import numpy as np\n",
        "import pandas as pd\n",
        "s=pd.Series({\"a\":1,\"b\":2,\"c\":0})\n",
        "# ВАШ КОД\n",
        "s1=s.diff().dropna().expanding().apply(lambda x: np.mean(x**2))\n",
        "print(s1)"
      ],
      "metadata": {
        "colab": {
          "base_uri": "https://localhost:8080/"
        },
        "id": "dBN14IJ8kn7V",
        "outputId": "72dd7d93-41e8-4b59-8b66-c29ab80bf8f4"
      },
      "execution_count": null,
      "outputs": [
        {
          "output_type": "stream",
          "name": "stdout",
          "text": [
            "b    1.0\n",
            "c    2.5\n",
            "dtype: float64\n"
          ]
        }
      ]
    },
    {
      "cell_type": "code",
      "source": [
        "import pandas as pd\n",
        "df = pd.DataFrame({'country': ['Kazakhstan', 'Russia', 'Belarus', 'Tajikistaan'],\n",
        "                   'population': [17.04, 143.5, 9.5, 10.5],\n",
        "                   'square': [2724902, 17125191, 207600, 143000]})\n",
        "print(df)"
      ],
      "metadata": {
        "colab": {
          "base_uri": "https://localhost:8080/"
        },
        "id": "7n3nfHvdmpQb",
        "outputId": "5bc7219c-0875-41ba-c6c3-e0d6cddcc72f"
      },
      "execution_count": null,
      "outputs": [
        {
          "output_type": "stream",
          "name": "stdout",
          "text": [
            "       country  population    square\n",
            "0   Kazakhstan       17.04   2724902\n",
            "1       Russia      143.50  17125191\n",
            "2      Belarus        9.50    207600\n",
            "3  Tajikistaan       10.50    143000\n"
          ]
        }
      ]
    },
    {
      "cell_type": "code",
      "source": [
        "import pandas as pd\n",
        "df = pd.DataFrame({'country': ['Kazakhstan', 'Russia', 'Belarus', 'Tajikistaan'],\n",
        "                   'population': [17.04, 143.5, 9.5, 10.5],\n",
        "                   'square': [2724902, 17125191, 207600, 143000]})\n",
        "df['density'] = df['population'] / df['square'] * 1000000\n",
        "print(df)"
      ],
      "metadata": {
        "colab": {
          "base_uri": "https://localhost:8080/"
        },
        "id": "ji9Fs_IFnSlr",
        "outputId": "3fbb5ae3-e648-49ec-e4ba-ad9540dda14d"
      },
      "execution_count": null,
      "outputs": [
        {
          "output_type": "stream",
          "name": "stdout",
          "text": [
            "       country  population    square    density\n",
            "0   Kazakhstan       17.04   2724902   6.253436\n",
            "1       Russia      143.50  17125191   8.379469\n",
            "2      Belarus        9.50    207600  45.761079\n",
            "3  Tajikistaan       10.50    143000  73.426573\n"
          ]
        }
      ]
    },
    {
      "cell_type": "code",
      "source": [
        "import scipy.stats as sps\n",
        "import pandas as pd\n",
        "d = {'one': pd.Series(range(6), index=list('abcdef')),\n",
        "     'two': pd.Series(range(7), index=list('abcdefg')),\n",
        "     'three': pd.Series(sps.norm.rvs(size=7), index=list('abcdefg'))}\n",
        "df = pd.DataFrame(d)\n",
        "print(df)\n",
        "print(\" \")\n",
        "print(df.head())\n",
        "print(\" \")\n",
        "print(df.tail(3))\n",
        "print(\" \")\n",
        "print(df.index)\n",
        "print(\" \")\n",
        "print(df.columns)\n",
        "print(\" \")\n",
        "print(df.values)\n",
        "print(\" \")\n",
        "print(df.describe())\n",
        "print(\" \")\n",
        "print(df['one'])\n",
        "print(\" \")\n",
        "print(df['one']['c'])\n",
        "print(\" \")\n",
        "print(df['b':'d'])\n",
        "print(\" \")\n",
        "print(df.loc['b'])\n",
        "print(\" \")\n",
        "print(df.loc['b','one'])\n",
        "print(\" \")\n",
        "print(df.iloc[1:3])\n",
        "print(\" \")\n",
        "print(df.iloc[1:3, 0:2])\n",
        "print(\" \")\n",
        "print(df[df.three > 0])\n",
        "df['4th'] = df['one'] * df['two']\n",
        "df['flag'] = df['two'] > 2\n",
        "print(df)\n",
        "print(\" \")\n",
        "del df['two']\n",
        "df['foo'] = 0\n",
        "print(df)\n",
        "print(\" \")\n",
        "df.iat[1, 0] = -1\n",
        "print(df)"
      ],
      "metadata": {
        "colab": {
          "base_uri": "https://localhost:8080/"
        },
        "id": "zlGabws5oJld",
        "outputId": "1235cffb-7984-437d-f9ac-3b8d25f805f3"
      },
      "execution_count": null,
      "outputs": [
        {
          "output_type": "stream",
          "name": "stdout",
          "text": [
            "   one  two     three\n",
            "a  0.0    0  0.537299\n",
            "b  1.0    1 -0.116976\n",
            "c  2.0    2  0.480049\n",
            "d  3.0    3 -0.579371\n",
            "e  4.0    4 -0.373757\n",
            "f  5.0    5 -0.806770\n",
            "g  NaN    6  0.750988\n",
            " \n",
            "   one  two     three\n",
            "a  0.0    0  0.537299\n",
            "b  1.0    1 -0.116976\n",
            "c  2.0    2  0.480049\n",
            "d  3.0    3 -0.579371\n",
            "e  4.0    4 -0.373757\n",
            " \n",
            "   one  two     three\n",
            "e  4.0    4 -0.373757\n",
            "f  5.0    5 -0.806770\n",
            "g  NaN    6  0.750988\n",
            " \n",
            "Index(['a', 'b', 'c', 'd', 'e', 'f', 'g'], dtype='object')\n",
            " \n",
            "Index(['one', 'two', 'three'], dtype='object')\n",
            " \n",
            "[[ 0.          0.          0.53729861]\n",
            " [ 1.          1.         -0.11697623]\n",
            " [ 2.          2.          0.48004873]\n",
            " [ 3.          3.         -0.57937113]\n",
            " [ 4.          4.         -0.37375652]\n",
            " [ 5.          5.         -0.80677031]\n",
            " [        nan  6.          0.75098833]]\n",
            " \n",
            "            one       two     three\n",
            "count  6.000000  7.000000  7.000000\n",
            "mean   2.500000  3.000000 -0.015506\n",
            "std    1.870829  2.160247  0.608463\n",
            "min    0.000000  0.000000 -0.806770\n",
            "25%    1.250000  1.500000 -0.476564\n",
            "50%    2.500000  3.000000 -0.116976\n",
            "75%    3.750000  4.500000  0.508674\n",
            "max    5.000000  6.000000  0.750988\n",
            " \n",
            "a    0.0\n",
            "b    1.0\n",
            "c    2.0\n",
            "d    3.0\n",
            "e    4.0\n",
            "f    5.0\n",
            "g    NaN\n",
            "Name: one, dtype: float64\n",
            " \n",
            "2.0\n",
            " \n",
            "   one  two     three\n",
            "b  1.0    1 -0.116976\n",
            "c  2.0    2  0.480049\n",
            "d  3.0    3 -0.579371\n",
            " \n",
            "one      1.000000\n",
            "two      1.000000\n",
            "three   -0.116976\n",
            "Name: b, dtype: float64\n",
            " \n",
            "1.0\n",
            " \n",
            "   one  two     three\n",
            "b  1.0    1 -0.116976\n",
            "c  2.0    2  0.480049\n",
            " \n",
            "   one  two\n",
            "b  1.0    1\n",
            "c  2.0    2\n",
            " \n",
            "   one  two     three\n",
            "a  0.0    0  0.537299\n",
            "c  2.0    2  0.480049\n",
            "g  NaN    6  0.750988\n",
            "   one  two     three   4th   flag\n",
            "a  0.0    0  0.537299   0.0  False\n",
            "b  1.0    1 -0.116976   1.0  False\n",
            "c  2.0    2  0.480049   4.0  False\n",
            "d  3.0    3 -0.579371   9.0   True\n",
            "e  4.0    4 -0.373757  16.0   True\n",
            "f  5.0    5 -0.806770  25.0   True\n",
            "g  NaN    6  0.750988   NaN   True\n",
            " \n",
            "   one     three   4th   flag  foo\n",
            "a  0.0  0.537299   0.0  False    0\n",
            "b  1.0 -0.116976   1.0  False    0\n",
            "c  2.0  0.480049   4.0  False    0\n",
            "d  3.0 -0.579371   9.0   True    0\n",
            "e  4.0 -0.373757  16.0   True    0\n",
            "f  5.0 -0.806770  25.0   True    0\n",
            "g  NaN  0.750988   NaN   True    0\n",
            " \n"
          ]
        }
      ]
    },
    {
      "cell_type": "code",
      "source": [
        "import numpy as np\n",
        "import pandas as pd\n",
        "import scipy.stats as sps\n",
        "# ВАШ КОД\n",
        "# создаем матрицу\n",
        "n, m = 20, 10\n",
        "data = sps.randint(low=-100, high=100).rvs(size=(n, m))\n",
        "cols = np.arange(1, m + 1)\n",
        "np.random.shuffle(cols)\n",
        "# создаем таблицу\n",
        "task_df = pd.DataFrame(data, columns=cols)\n",
        "# задаем условия для строк и столбцов\n",
        "col_mask = (cols % 2) == 0\n",
        "row_mask = np.sum(data % 2, axis=1) < (m / 2)\n",
        "# извлекаем данные по условию\n",
        "print(task_df.loc[row_mask, col_mask])"
      ],
      "metadata": {
        "colab": {
          "base_uri": "https://localhost:8080/"
        },
        "id": "zLax9pVUrX2g",
        "outputId": "c45d976b-6bc6-4d80-da3a-29e2901f5c47"
      },
      "execution_count": null,
      "outputs": [
        {
          "output_type": "stream",
          "name": "stdout",
          "text": [
            "    2   6   10   4   8 \n",
            "0   82 -51  -8    4  44\n",
            "4   38 -64 -88  -94 -88\n",
            "5  -92 -82  94  -48 -77\n",
            "10 -28  26 -67  -62  92\n",
            "13  81  78 -96  -62  98\n",
            "15  32  25 -10 -100 -70\n"
          ]
        }
      ]
    },
    {
      "cell_type": "markdown",
      "source": [
        "2.3 Изменение таблиц\n",
        "К таблице можно добавлять новые столбцы.\n"
      ],
      "metadata": {
        "id": "X2z0EbRdb-9M"
      }
    },
    {
      "cell_type": "code",
      "source": [
        "import scipy.stats as sps\n",
        " \n",
        "import pandas as pd\n",
        "d = {'one': pd.Series(range(6), index=list('abcdef')),\n",
        "     'two': pd.Series(range(7), index=list('abcdefg')),\n",
        "     'three': pd.Series(sps.norm.rvs(size=7), index=list('abcdefg'))}\n",
        "df = pd.DataFrame(d)\n",
        "df['4th'] = df['one'] * df['two']\n",
        "df['flag'] = df['two'] > 2\n",
        " \n",
        "print(df)\n",
        "\n"
      ],
      "metadata": {
        "colab": {
          "base_uri": "https://localhost:8080/"
        },
        "id": "WWzZRPhyb_X6",
        "outputId": "48b2be36-2994-414d-e3ee-feccdb4bbd93"
      },
      "execution_count": 1,
      "outputs": [
        {
          "output_type": "stream",
          "name": "stdout",
          "text": [
            "   one  two     three   4th   flag\n",
            "a  0.0    0  1.992234   0.0  False\n",
            "b  1.0    1  0.714694   1.0  False\n",
            "c  2.0    2 -0.121670   4.0  False\n",
            "d  3.0    3  0.668699   9.0   True\n",
            "e  4.0    4 -2.175215  16.0   True\n",
            "f  5.0    5 -0.218324  25.0   True\n",
            "g  NaN    6 -0.965726   NaN   True\n"
          ]
        }
      ]
    },
    {
      "cell_type": "code",
      "source": [
        "\n",
        "#И удалять имеющиеся.\n",
        "import scipy.stats as sps\n",
        " \n",
        "import pandas as pd\n",
        "d = {'one': pd.Series(range(6), index=list('abcdef')),\n",
        "     'two': pd.Series(range(7), index=list('abcdefg')),\n",
        "     'three': pd.Series(sps.norm.rvs(size=7), index=list('abcdefg'))}\n",
        "df = pd.DataFrame(d)\n",
        " \n",
        "del df['two']\n",
        "df['foo'] = 0\n",
        " \n",
        "print(df)\n",
        "\n"
      ],
      "metadata": {
        "colab": {
          "base_uri": "https://localhost:8080/"
        },
        "id": "USmNaoq6cM23",
        "outputId": "b9418809-9b8a-428d-b48d-19ff44f47726"
      },
      "execution_count": 2,
      "outputs": [
        {
          "output_type": "stream",
          "name": "stdout",
          "text": [
            "   one     three  foo\n",
            "a  0.0 -0.469750    0\n",
            "b  1.0 -0.954622    0\n",
            "c  2.0  1.822651    0\n",
            "d  3.0 -0.797007    0\n",
            "e  4.0  1.356361    0\n",
            "f  5.0 -1.220123    0\n",
            "g  NaN -0.028447    0\n"
          ]
        }
      ]
    },
    {
      "cell_type": "code",
      "source": [
        "#Изменение элемента\n",
        "import scipy.stats as sps\n",
        " \n",
        "import pandas as pd\n",
        "d = {'one': pd.Series(range(6), index=list('abcdef')),\n",
        "     'two': pd.Series(range(7), index=list('abcdefg')),\n",
        "     'three': pd.Series(sps.norm.rvs(size=7), index=list('abcdefg'))}\n",
        "df = pd.DataFrame(d)\n",
        " \n",
        "df.iat[1, 0] = -1\n",
        " \n",
        "# Эквивалентные формы:\n",
        "# df['one']['b'] = -1  <--  SettingWithCopyWarning\n",
        "# df.at['b', 'one'] = -1\n",
        " \n",
        "print(df)\n",
        "\n"
      ],
      "metadata": {
        "colab": {
          "base_uri": "https://localhost:8080/"
        },
        "id": "kSnJBKftcTie",
        "outputId": "086ddc2e-4d49-471b-ff85-132b1ffc1587"
      },
      "execution_count": 3,
      "outputs": [
        {
          "output_type": "stream",
          "name": "stdout",
          "text": [
            "   one  two     three\n",
            "a  0.0    0  0.793387\n",
            "b -1.0    1 -1.119331\n",
            "c  2.0    2  2.597140\n",
            "d  3.0    3 -1.924035\n",
            "e  4.0    4  0.608440\n",
            "f  5.0    5 -0.602657\n",
            "g  NaN    6  0.177134\n"
          ]
        }
      ]
    },
    {
      "cell_type": "code",
      "source": [
        "#Добавим копию столбца one, в которую входят только строки до третьей.\n",
        "import scipy.stats as sps\n",
        " \n",
        "import pandas as pd\n",
        "d = {'one': pd.Series(range(6), index=list('abcdef')),\n",
        "     'two': pd.Series(range(7), index=list('abcdefg')),\n",
        "     'three': pd.Series(sps.norm.rvs(size=7), index=list('abcdefg'))}\n",
        "df = pd.DataFrame(d)\n",
        " \n",
        "df['one_tr'] = df['one'][:3]\n",
        " \n",
        "print(df)\n",
        "\n"
      ],
      "metadata": {
        "colab": {
          "base_uri": "https://localhost:8080/"
        },
        "id": "wUNC1P5UccRY",
        "outputId": "5f76693e-11e3-40e1-fa1b-c53da80eb15a"
      },
      "execution_count": 4,
      "outputs": [
        {
          "output_type": "stream",
          "name": "stdout",
          "text": [
            "   one  two     three  one_tr\n",
            "a  0.0    0  0.498815     0.0\n",
            "b  1.0    1 -0.214204     1.0\n",
            "c  2.0    2 -1.702609     2.0\n",
            "d  3.0    3  0.300397     NaN\n",
            "e  4.0    4 -2.576009     NaN\n",
            "f  5.0    5  0.989204     NaN\n",
            "g  NaN    6 -0.507604     NaN\n"
          ]
        }
      ]
    },
    {
      "cell_type": "code",
      "source": [
        "#2.4 Пропуски\n",
        "#Удаление всех строк с пропусками\n",
        "import scipy.stats as sps\n",
        " \n",
        "import pandas as pd\n",
        "d = {'one': pd.Series(range(6), index=list('abcdef')),\n",
        "     'two': pd.Series(range(7), index=list('abcdefg')),\n",
        "     'three': pd.Series(sps.norm.rvs(size=7), index=list('abcdefg'))}\n",
        "df = pd.DataFrame(d)\n",
        " \n",
        "print(df.dropna(how='any'))\n",
        "\n"
      ],
      "metadata": {
        "colab": {
          "base_uri": "https://localhost:8080/"
        },
        "id": "_ePtBN-EclQ4",
        "outputId": "d68caa9e-d937-45eb-f37f-826c6c570bda"
      },
      "execution_count": 6,
      "outputs": [
        {
          "output_type": "stream",
          "name": "stdout",
          "text": [
            "   one  two     three\n",
            "a  0.0    0  0.845715\n",
            "b  1.0    1  0.289800\n",
            "c  2.0    2  0.651030\n",
            "d  3.0    3 -0.995161\n",
            "e  4.0    4  1.164395\n",
            "f  5.0    5 -0.559893\n"
          ]
        }
      ]
    },
    {
      "cell_type": "code",
      "source": [
        "#Замена всех пропусков на значение\n",
        "import scipy.stats as sps\n",
        " \n",
        "import pandas as pd\n",
        "d = {'one': pd.Series(range(6), index=list('abcdef')),\n",
        "     'two': pd.Series(range(7), index=list('abcdefg')),\n",
        "     'three': pd.Series(sps.norm.rvs(size=7), index=list('abcdefg'))}\n",
        "df = pd.DataFrame(d)\n",
        " \n",
        "df['4th'] = df['one'] * df['two']\n",
        "df['flag'] = df['two'] > 2\n",
        " \n",
        "del df['two']\n",
        "df['foo'] = 0\n",
        " \n",
        "df['one_tr'] = df['one'][:3]\n",
        "print(df.fillna(value=666))\n",
        "\n"
      ],
      "metadata": {
        "colab": {
          "base_uri": "https://localhost:8080/"
        },
        "id": "uOJQ9XLicsTf",
        "outputId": "f932ce6e-32a4-48eb-a24a-5cc4fae30fbe"
      },
      "execution_count": 7,
      "outputs": [
        {
          "output_type": "stream",
          "name": "stdout",
          "text": [
            "     one     three    4th   flag  foo  one_tr\n",
            "a    0.0  0.377876    0.0  False    0     0.0\n",
            "b    1.0 -1.517313    1.0  False    0     1.0\n",
            "c    2.0 -0.178468    4.0  False    0     2.0\n",
            "d    3.0 -0.496845    9.0   True    0   666.0\n",
            "e    4.0 -1.616905   16.0   True    0   666.0\n",
            "f    5.0 -1.866431   25.0   True    0   666.0\n",
            "g  666.0 -0.936885  666.0   True    0   666.0\n"
          ]
        }
      ]
    },
    {
      "cell_type": "markdown",
      "source": [],
      "metadata": {
        "id": "v6RQbOnTc2dU"
      }
    },
    {
      "cell_type": "code",
      "source": [
        "#Булевская маска пропущенных значений\n",
        "import scipy.stats as sps\n",
        " \n",
        "import pandas as pd\n",
        "d = {'one': pd.Series(range(6), index=list('abcdef')),\n",
        "     'two': pd.Series(range(7), index=list('abcdefg')),\n",
        "     'three': pd.Series(sps.norm.rvs(size=7), index=list('abcdefg'))}\n",
        "df = pd.DataFrame(d)\n",
        " \n",
        "df['4th'] = df['one'] * df['two']\n",
        "df['flag'] = df['two'] > 2\n",
        " \n",
        "del df['two']\n",
        "df['foo'] = 0\n",
        " \n",
        "df['one_tr'] = df['one'][:3]\n",
        " \n",
        "print(df.isnull())\n",
        "\n"
      ],
      "metadata": {
        "colab": {
          "base_uri": "https://localhost:8080/"
        },
        "id": "tq0WCP3Mcy-Z",
        "outputId": "5314b6ca-e1a0-4508-ff76-95a40a88eddd"
      },
      "execution_count": 8,
      "outputs": [
        {
          "output_type": "stream",
          "name": "stdout",
          "text": [
            "     one  three    4th   flag    foo  one_tr\n",
            "a  False  False  False  False  False   False\n",
            "b  False  False  False  False  False   False\n",
            "c  False  False  False  False  False   False\n",
            "d  False  False  False  False  False    True\n",
            "e  False  False  False  False  False    True\n",
            "f  False  False  False  False  False    True\n",
            "g   True  False   True  False  False    True\n"
          ]
        }
      ]
    },
    {
      "cell_type": "markdown",
      "source": [
        "2.5 Простые операции\n"
      ],
      "metadata": {
        "id": "SLpO5oRPc4DU"
      }
    },
    {
      "cell_type": "code",
      "source": [
        "#Создадим таблицу из массива случайных чисел.\n",
        "import matplotlib.pyplot as plt\n",
        "import scipy.stats as sps\n",
        "import numpy as np\n",
        "import pandas as pd\n",
        " \n",
        "df1 = pd.DataFrame(sps.uniform.rvs(size=(10, 4)),\n",
        "                   columns=['A', 'B', 'C', 'D'])\n",
        "df2= pd.DataFrame(sps.uniform.rvs(size=(7, 3)),\n",
        "                   columns=['A', 'B', 'C'])\n",
        "\n",
        "\n",
        "print(df1+df2)\n",
        "print(np.sin(df1))\n",
        "cs = df1.cumsum()\n",
        "print(cs)\n",
        "cs.plot()\n",
        "plt.show()\n",
        "\n",
        "\n"
      ],
      "metadata": {
        "colab": {
          "base_uri": "https://localhost:8080/",
          "height": 838
        },
        "id": "0rFCPXJ-c4ys",
        "outputId": "d46fe12e-46d1-4fc0-d780-2b1f9163d6b3"
      },
      "execution_count": 12,
      "outputs": [
        {
          "output_type": "stream",
          "name": "stdout",
          "text": [
            "          A         B         C   D\n",
            "0  1.233684  0.139431  0.838483 NaN\n",
            "1  1.321123  0.305976  0.844317 NaN\n",
            "2  0.116863  1.128026  1.221052 NaN\n",
            "3  0.898028  0.173269  1.732722 NaN\n",
            "4  0.752847  1.191049  1.218055 NaN\n",
            "5  1.359669  1.660220  1.414518 NaN\n",
            "6  0.957550  0.790947  1.672440 NaN\n",
            "7       NaN       NaN       NaN NaN\n",
            "8       NaN       NaN       NaN NaN\n",
            "9       NaN       NaN       NaN NaN\n",
            "          A         B         C         D\n",
            "0  0.254949  0.054351  0.169981  0.231297\n",
            "1  0.454245  0.232489  0.383856  0.158630\n",
            "2  0.115620  0.183198  0.478198  0.681388\n",
            "3  0.006416  0.066937  0.807129  0.742771\n",
            "4  0.434820  0.231760  0.642712  0.050350\n",
            "5  0.477390  0.786546  0.611870  0.451948\n",
            "6  0.561162  0.657064  0.742891  0.693953\n",
            "7  0.592511  0.815960  0.778065  0.066017\n",
            "8  0.832469  0.424384  0.411446  0.724571\n",
            "9  0.274633  0.065727  0.714813  0.482703\n",
            "          A         B         C         D\n",
            "0  0.257795  0.054377  0.170810  0.233410\n",
            "1  0.729319  0.289014  0.564779  0.392713\n",
            "2  0.845198  0.473253  1.063381  1.142371\n",
            "3  0.851615  0.540240  2.002654  1.979571\n",
            "4  1.301453  0.774127  2.700687  2.029941\n",
            "5  1.799135  1.679322  3.359110  2.498889\n",
            "6  2.394924  2.396240  4.196488  3.265854\n",
            "7  3.029096  3.350628  5.088068  3.331919\n",
            "8  4.012645  3.788909  5.512107  4.142330\n",
            "9  4.290852  3.854684  6.308465  4.646069\n"
          ]
        },
        {
          "output_type": "display_data",
          "data": {
            "text/plain": [
              "<Figure size 432x288 with 1 Axes>"
            ],
            "image/png": "[encoded data removed]"
          },
          "metadata": {
            "needs_background": "light"
          }
        }
      ]
    },
    {
      "cell_type": "markdown",
      "source": [
        " Сгенерируйте случайную выборку X1,…,Xn для n=100 из стандартного нормального распределения, соберите из неё pd.DataFrame, замените случайные 10% элементов на пропуски (np.nan), а затем добавьте по столбцу для оценок первых 4 моментов кумулятивно —\n",
        "1mi=1mXik,   i∈1,m,   m∈1,n,    k∈1,4  \n"
      ],
      "metadata": {
        "id": "r6eXoyDadxS-"
      }
    },
    {
      "cell_type": "code",
      "source": [
        "import matplotlib.pyplot as plt\n",
        "import numpy as np\n",
        "import scipy.stats as sps\n",
        "import pandas as pd\n",
        " \n",
        "# YOUR CODE\n",
        "# генерируем выборку\n",
        "n = 100\n",
        "sample = sps.norm.rvs(size=n)\n",
        "print(sample)\n",
        "# создаем пропуски\n",
        "index = np.random.choice(np.arange(n), int(0.1 * n), replace=True)\n",
        "sample[index] = np.nan\n",
        " \n",
        "# заводим dataframe\n",
        "sample_df = pd.DataFrame(sample, columns=['Выборка'])\n",
        " \n",
        "for k in range(1, 5):\n",
        "    sample_df['{}-й выборочный момент'.format(k)] = (\n",
        "        sample_df['Выборка'] ** k\n",
        "    ).expanding().apply(np.nanmean)\n",
        "    \n",
        "sample_df.plot(figsize=(10, 5));\n",
        "plt.show()\n",
        "\n"
      ],
      "metadata": {
        "colab": {
          "base_uri": "https://localhost:8080/",
          "height": 754
        },
        "id": "cwWNcmpOd0AI",
        "outputId": "bf1a92f6-51c8-4919-843c-58f9b73261fe"
      },
      "execution_count": 13,
      "outputs": [
        {
          "output_type": "stream",
          "name": "stdout",
          "text": [
            "[-3.97982268e-01 -9.11280548e-01  8.80050739e-01  8.02399153e-02\n",
            " -1.45423239e+00 -1.94080601e+00  7.87118989e-01  1.33277438e-01\n",
            " -4.17068160e-01  1.94247795e-02 -1.61763805e-01 -9.03796486e-01\n",
            " -8.77039171e-01  1.91805901e+00  1.44392316e+00  2.93567637e-02\n",
            "  1.36187483e+00 -1.05376913e+00  1.51918752e+00 -4.93909479e-01\n",
            "  6.40674771e-02  9.58833423e-01  8.69263573e-01 -4.41816024e-01\n",
            "  2.27085592e-01  1.54988733e+00  1.39228242e+00  9.73456132e-02\n",
            " -5.23997250e-01 -5.77066573e-01 -4.00664752e-01  2.41228106e-01\n",
            "  1.26677725e+00 -7.47457445e-01  1.04904277e+00 -1.77187509e+00\n",
            " -6.92753784e-01 -7.79194275e-01 -6.93864613e-01  1.06770827e+00\n",
            "  1.10163188e-01 -1.03680062e-01 -8.79601426e-01 -1.26734060e+00\n",
            " -9.07798506e-01 -1.47616128e+00 -8.63028186e-01  1.32162927e-02\n",
            "  1.30511974e+00 -2.40174402e-01  8.19136820e-01 -9.68416101e-03\n",
            "  2.29765388e+00 -2.44057668e+00 -7.50307415e-01  4.45411284e-01\n",
            " -4.77743641e-01  5.67777662e-01  3.08656609e-01 -3.00332771e-03\n",
            "  2.88236258e-01 -5.53872837e-01  1.45437833e+00 -3.71106116e-01\n",
            "  1.01954278e+00 -3.52064129e-01  1.41971773e+00 -3.20024849e-01\n",
            "  1.36137689e-01 -2.55015447e+00  7.28504306e-01  1.29154269e+00\n",
            " -1.64576751e+00 -1.86107327e+00  1.03488417e+00  5.03187959e-01\n",
            "  1.80370699e+00 -7.77057081e-01  6.16141016e-01  1.55487684e-03\n",
            " -1.16390271e+00  1.30520856e+00 -7.04817518e-01 -1.24982197e-01\n",
            " -6.98027718e-01  6.54743354e-01  6.24957423e-01  5.19187110e-02\n",
            "  1.70759035e+00 -3.38860470e-02 -2.50095093e+00  1.62332650e-01\n",
            "  1.51797333e+00  6.63975570e-01  9.01695444e-01  3.52212002e-01\n",
            "  1.84674004e+00 -7.89116883e-01  7.44462232e-01 -5.68002186e-01]\n"
          ]
        },
        {
          "output_type": "display_data",
          "data": {
            "text/plain": [
              "<Figure size 720x360 with 1 Axes>"
            ],
            "image/png": "[encoded data removed]"
          },
          "metadata": {
            "needs_background": "light"
          }
        }
      ]
    },
    {
      "cell_type": "markdown",
      "source": [
        "5. Интервалы времени\n",
        "Интервал времени задается объектом pd.Timedelta\n",
        "Возможные обозначения интервалов: 'Y', 'M', 'W', 'D', 'days', 'day', 'hours', hour', 'hr', 'h', 'm', 'minute', 'min', 'minutes', 'T', 'S', 'seconds', 'sec', 'second', 'ms', 'milliseconds', 'millisecond', 'milli', 'millis', 'L', 'us', 'microseconds', 'microsecond', 'micro', 'micros', 'U', 'ns', 'nanoseconds', 'nano', 'nanos', 'nanosecond', 'N'\n",
        "Например, интервал времени в 5 недель 6 дней 5 часов 37 минут 23 секунды 12 милисекунд:\n"
      ],
      "metadata": {
        "id": "Eol5MqSreE6S"
      }
    },
    {
      "cell_type": "code",
      "source": [
        "import pandas as pd\n",
        "print(pd.Timedelta('5W 6 days 5hr 37min 23sec 12ms'))\n",
        "\n"
      ],
      "metadata": {
        "colab": {
          "base_uri": "https://localhost:8080/"
        },
        "id": "zgS2xMhHeHc7",
        "outputId": "a25c4b13-c0ed-430f-ad5f-ff1d37bff8de"
      },
      "execution_count": 15,
      "outputs": [
        {
          "output_type": "stream",
          "name": "stdout",
          "text": [
            "41 days 05:37:23.012000\n"
          ]
        }
      ]
    },
    {
      "cell_type": "code",
      "source": [
        "import pandas as pd\n",
        "print(pd.Timedelta('1Y'), pd.Timedelta('1M'))\n",
        "\n"
      ],
      "metadata": {
        "colab": {
          "base_uri": "https://localhost:8080/"
        },
        "id": "w4nrPBFFeK7C",
        "outputId": "ecb4b519-2a19-4a1a-e7e2-f8f1a652af30"
      },
      "execution_count": 16,
      "outputs": [
        {
          "output_type": "stream",
          "name": "stdout",
          "text": [
            "365 days 05:49:12 0 days 00:01:00\n"
          ]
        },
        {
          "output_type": "stream",
          "name": "stderr",
          "text": [
            "/usr/local/lib/python3.8/dist-packages/IPython/core/interactiveshell.py:3326: FutureWarning: Units 'M', 'Y' and 'y' do not represent unambiguous timedelta values and will be removed in a future version\n",
            "  exec(code_obj, self.user_global_ns, self.user_ns)\n"
          ]
        }
      ]
    },
    {
      "cell_type": "markdown",
      "source": [
        "Символ Y обозначает год. Он сделан таким из-за високосных годов. Поскольку месяцы разной длины, то их вообще нельзя здесь задать. Поэтому M обозначает минуты.\n",
        "Интервал можно добавить к какой-нибудь дате, или вычесть из нее.\n"
      ],
      "metadata": {
        "id": "NtFLlbvneOtc"
      }
    },
    {
      "cell_type": "code",
      "source": [
        "import pandas as pd\n",
        " \n",
        "print(pd.to_datetime('2022.09.18 18:30') \\\n",
        "    + pd.Timedelta('8hr 37min 23sec 12ms'))"
      ],
      "metadata": {
        "colab": {
          "base_uri": "https://localhost:8080/"
        },
        "id": "XGmsiZDNeRaJ",
        "outputId": "dc93b621-5c69-4f72-8974-10b20c2e8de2"
      },
      "execution_count": 17,
      "outputs": [
        {
          "output_type": "stream",
          "name": "stdout",
          "text": [
            "2022-09-19 03:07:23.012000\n"
          ]
        }
      ]
    },
    {
      "cell_type": "code",
      "source": [
        "import pandas as pd\n",
        " \n",
        "print(pd.to_datetime('2022.09.18 18:30') \\\n",
        "    - pd.Timedelta('20hr 50min 23sec 12ms'))\n",
        "\n"
      ],
      "metadata": {
        "colab": {
          "base_uri": "https://localhost:8080/"
        },
        "id": "V8mcMFhWeWr3",
        "outputId": "315cb255-58bf-4405-f24f-19d40ca00fa1"
      },
      "execution_count": 18,
      "outputs": [
        {
          "output_type": "stream",
          "name": "stdout",
          "text": [
            "2022-09-17 21:39:36.988000\n"
          ]
        }
      ]
    },
    {
      "cell_type": "markdown",
      "source": [
        "Пример. Врач на протяжении дня измеряет пациенту температуру каждые 3 часа в течение 2 недель. Также пациенту необходимо спать с 11 вечера до 7 утра. Каждый день измерения температуры начинаются в 8 часов. Первое измерение 22 марта 2020 года. Определите моменты времени, когда нужно измерить пациенту температуру.\n"
      ],
      "metadata": {
        "id": "JcVmhzrveasU"
      }
    },
    {
      "cell_type": "code",
      "source": [
        "import pandas as pd\n",
        " \n",
        "periods = pd.timedelta_range(start='8H', freq='3H', end='23H')\n",
        "print(periods)\n",
        "\n"
      ],
      "metadata": {
        "colab": {
          "base_uri": "https://localhost:8080/"
        },
        "id": "mfcchw5neiN6",
        "outputId": "2d79ec87-6e7d-4e13-9bfd-e31641f3388c"
      },
      "execution_count": 19,
      "outputs": [
        {
          "output_type": "stream",
          "name": "stdout",
          "text": [
            "TimedeltaIndex(['0 days 08:00:00', '0 days 11:00:00', '0 days 14:00:00',\n",
            "                '0 days 17:00:00', '0 days 20:00:00', '0 days 23:00:00'],\n",
            "               dtype='timedelta64[ns]', freq='3H')\n"
          ]
        }
      ]
    },
    {
      "cell_type": "code",
      "source": [
        "#Даты измерений темпратуры\n",
        "import pandas as pd\n",
        " \n",
        "# Даты измерний температуры\n",
        "dates = pd.to_datetime('2022.03.22') \\\n",
        "    + pd.timedelta_range(start=0, freq='1D', end='2W')\n",
        "print(dates)\n",
        "\n",
        "\n",
        "\n"
      ],
      "metadata": {
        "colab": {
          "base_uri": "https://localhost:8080/"
        },
        "id": "chEgVDQHenkq",
        "outputId": "cccb01b7-240a-4bee-9d1c-142938dd3515"
      },
      "execution_count": 20,
      "outputs": [
        {
          "output_type": "stream",
          "name": "stdout",
          "text": [
            "DatetimeIndex(['2022-03-22', '2022-03-23', '2022-03-24', '2022-03-25',\n",
            "               '2022-03-26', '2022-03-27', '2022-03-28', '2022-03-29',\n",
            "               '2022-03-30', '2022-03-31', '2022-04-01', '2022-04-02',\n",
            "               '2022-04-03', '2022-04-04', '2022-04-05'],\n",
            "              dtype='datetime64[ns]', freq='D')\n"
          ]
        }
      ]
    },
    {
      "cell_type": "code",
      "source": [
        "#Время измерния температуры\n",
        "import numpy as np\n",
        "import pandas as pd\n",
        " \n",
        "# Периоды измерения температуры днем\n",
        "periods = pd.timedelta_range(start='8H', freq='3H', end='23H')\n",
        " \n",
        "# Даты измерний температуры\n",
        "dates = pd.to_datetime('2022.03.22') \\\n",
        "    + pd.timedelta_range(start=0, freq='1D', end='2W')\n",
        " \n",
        "# Время измерния температуры\n",
        "n, m = len(dates), len(periods)\n",
        "dates_new = dates.repeat(m)\n",
        "periods_new = pd.to_timedelta(np.tile(periods, n))\n",
        "time = dates_new + periods_new\n",
        "print(time)\n",
        "\n"
      ],
      "metadata": {
        "colab": {
          "base_uri": "https://localhost:8080/"
        },
        "id": "n8ADRwueesYz",
        "outputId": "abd2ab41-a881-44a7-e103-61371ef4f6c2"
      },
      "execution_count": 21,
      "outputs": [
        {
          "output_type": "stream",
          "name": "stdout",
          "text": [
            "DatetimeIndex(['2022-03-22 08:00:00', '2022-03-22 11:00:00',\n",
            "               '2022-03-22 14:00:00', '2022-03-22 17:00:00',\n",
            "               '2022-03-22 20:00:00', '2022-03-22 23:00:00',\n",
            "               '2022-03-23 08:00:00', '2022-03-23 11:00:00',\n",
            "               '2022-03-23 14:00:00', '2022-03-23 17:00:00',\n",
            "               '2022-03-23 20:00:00', '2022-03-23 23:00:00',\n",
            "               '2022-03-24 08:00:00', '2022-03-24 11:00:00',\n",
            "               '2022-03-24 14:00:00', '2022-03-24 17:00:00',\n",
            "               '2022-03-24 20:00:00', '2022-03-24 23:00:00',\n",
            "               '2022-03-25 08:00:00', '2022-03-25 11:00:00',\n",
            "               '2022-03-25 14:00:00', '2022-03-25 17:00:00',\n",
            "               '2022-03-25 20:00:00', '2022-03-25 23:00:00',\n",
            "               '2022-03-26 08:00:00', '2022-03-26 11:00:00',\n",
            "               '2022-03-26 14:00:00', '2022-03-26 17:00:00',\n",
            "               '2022-03-26 20:00:00', '2022-03-26 23:00:00',\n",
            "               '2022-03-27 08:00:00', '2022-03-27 11:00:00',\n",
            "               '2022-03-27 14:00:00', '2022-03-27 17:00:00',\n",
            "               '2022-03-27 20:00:00', '2022-03-27 23:00:00',\n",
            "               '2022-03-28 08:00:00', '2022-03-28 11:00:00',\n",
            "               '2022-03-28 14:00:00', '2022-03-28 17:00:00',\n",
            "               '2022-03-28 20:00:00', '2022-03-28 23:00:00',\n",
            "               '2022-03-29 08:00:00', '2022-03-29 11:00:00',\n",
            "               '2022-03-29 14:00:00', '2022-03-29 17:00:00',\n",
            "               '2022-03-29 20:00:00', '2022-03-29 23:00:00',\n",
            "               '2022-03-30 08:00:00', '2022-03-30 11:00:00',\n",
            "               '2022-03-30 14:00:00', '2022-03-30 17:00:00',\n",
            "               '2022-03-30 20:00:00', '2022-03-30 23:00:00',\n",
            "               '2022-03-31 08:00:00', '2022-03-31 11:00:00',\n",
            "               '2022-03-31 14:00:00', '2022-03-31 17:00:00',\n",
            "               '2022-03-31 20:00:00', '2022-03-31 23:00:00',\n",
            "               '2022-04-01 08:00:00', '2022-04-01 11:00:00',\n",
            "               '2022-04-01 14:00:00', '2022-04-01 17:00:00',\n",
            "               '2022-04-01 20:00:00', '2022-04-01 23:00:00',\n",
            "               '2022-04-02 08:00:00', '2022-04-02 11:00:00',\n",
            "               '2022-04-02 14:00:00', '2022-04-02 17:00:00',\n",
            "               '2022-04-02 20:00:00', '2022-04-02 23:00:00',\n",
            "               '2022-04-03 08:00:00', '2022-04-03 11:00:00',\n",
            "               '2022-04-03 14:00:00', '2022-04-03 17:00:00',\n",
            "               '2022-04-03 20:00:00', '2022-04-03 23:00:00',\n",
            "               '2022-04-04 08:00:00', '2022-04-04 11:00:00',\n",
            "               '2022-04-04 14:00:00', '2022-04-04 17:00:00',\n",
            "               '2022-04-04 20:00:00', '2022-04-04 23:00:00',\n",
            "               '2022-04-05 08:00:00', '2022-04-05 11:00:00',\n",
            "               '2022-04-05 14:00:00', '2022-04-05 17:00:00',\n",
            "               '2022-04-05 20:00:00', '2022-04-05 23:00:00'],\n",
            "              dtype='datetime64[ns]', freq=None)\n"
          ]
        }
      ]
    }
  ]
}