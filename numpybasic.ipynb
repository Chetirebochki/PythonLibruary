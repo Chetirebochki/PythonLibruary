{
  "nbformat": 4,
  "nbformat_minor": 0,
  "metadata": {
    "colab": {
      "provenance": [],
      "authorship_tag": "ABX9TyP8Y0eRrZLGb1cuD3j96cHu",
      "include_colab_link": true
    },
    "kernelspec": {
      "name": "python3",
      "display_name": "Python 3"
    },
    "language_info": {
      "name": "python"
    }
  },
  "cells": [
    {
      "cell_type": "markdown",
      "metadata": {
        "id": "view-in-github",
        "colab_type": "text"
      },
      "source": [
        "<a href=\"https://colab.research.google.com/github/Chetirebochki/PythonLibruary/blob/main/numpybasic.ipynb\" target=\"_parent\"><img src=\"https://colab.research.google.com/assets/colab-badge.svg\" alt=\"Open In Colab\"/></a>"
      ]
    },
    {
      "cell_type": "code",
      "execution_count": null,
      "metadata": {
        "id": "6LjdYCLgcawu"
      },
      "outputs": [],
      "source": []
    },
    {
      "cell_type": "markdown",
      "source": [
        "Напишите программу NumPy, чтобы проверить, являются ли два массива поэлементно равными в пределах допуска"
      ],
      "metadata": {
        "id": "F1lwdwh2cfgh"
      }
    },
    {
      "cell_type": "code",
      "source": [
        "import numpy as np\n",
        "print(np.allclose([1.0, np.nan], [1.0, np.nan]))\n",
        "print(np.allclose([1.0, np.nan], [1.0, np.nan], equal_nan=True))"
      ],
      "metadata": {
        "colab": {
          "base_uri": "https://localhost:8080/"
        },
        "id": "uTJ27-1Fc1wk",
        "outputId": "669671ba-2dbe-4ceb-fe7b-dbb18f34b503"
      },
      "execution_count": 22,
      "outputs": [
        {
          "output_type": "stream",
          "name": "stdout",
          "text": [
            "False\n",
            "True\n"
          ]
        }
      ]
    },
    {
      "cell_type": "markdown",
      "source": [
        "19. Напишите программу NumPy для создания вектора со значениями в диапазоне от 15 до 55 и распечатайте все значения, кроме первого и последнего.  \n"
      ],
      "metadata": {
        "id": "NtlTM2wqdIWm"
      }
    },
    {
      "cell_type": "code",
      "source": [
        "import numpy as np\n",
        "v = np.arange(15,55)\n",
        "print(\"Вектор:\")\n",
        "print(v)\n",
        "print(\"Все значения кроме первого и последнего:\")\n",
        "print(v[1:-1])"
      ],
      "metadata": {
        "colab": {
          "base_uri": "https://localhost:8080/"
        },
        "id": "5wGMrqbJdJES",
        "outputId": "1c338831-d023-43b1-d566-f0f8c9c4349f"
      },
      "execution_count": 3,
      "outputs": [
        {
          "output_type": "stream",
          "name": "stdout",
          "text": [
            "Вектор:\n",
            "[15 16 17 18 19 20 21 22 23 24 25 26 27 28 29 30 31 32 33 34 35 36 37 38\n",
            " 39 40 41 42 43 44 45 46 47 48 49 50 51 52 53 54]\n",
            "Все значения кроме первого и последнего:\n",
            "[16 17 18 19 20 21 22 23 24 25 26 27 28 29 30 31 32 33 34 35 36 37 38 39\n",
            " 40 41 42 43 44 45 46 47 48 49 50 51 52 53]\n"
          ]
        }
      ]
    },
    {
      "cell_type": "markdown",
      "source": [
        "29. Напишите программу NumPy для создания нулевой матрицы 5x5 с элементами на главной диагонали, равными 1, 2, 3, 4, 5.  \n"
      ],
      "metadata": {
        "id": "RGwLUX6sdgic"
      }
    },
    {
      "cell_type": "code",
      "source": [
        "import numpy as np\n",
        "x = np.diag([1, 2, 3, 4, 5])\n",
        "print(x)"
      ],
      "metadata": {
        "colab": {
          "base_uri": "https://localhost:8080/"
        },
        "id": "G_lpiPzvdhJj",
        "outputId": "c438776a-8fa0-4b8d-c2be-7de1a33527ae"
      },
      "execution_count": 4,
      "outputs": [
        {
          "output_type": "stream",
          "name": "stdout",
          "text": [
            "[[1 0 0 0 0]\n",
            " [0 2 0 0 0]\n",
            " [0 0 3 0 0]\n",
            " [0 0 0 4 0]\n",
            " [0 0 0 0 5]]\n"
          ]
        }
      ]
    },
    {
      "cell_type": "markdown",
      "source": [
        "9. Напишите программу NumPy, чтобы добавить границу (заполненную нулями) вокруг существующего массива.  \n",
        "\n"
      ],
      "metadata": {
        "id": "L4uYsbx-dz1a"
      }
    },
    {
      "cell_type": "code",
      "source": [
        "import numpy as np\n",
        "x = np.ones((3,3))\n",
        "print(\"Основная матрица:\")\n",
        "print(x)\n",
        "print(\"нулики вокруг основной матрицы\")\n",
        "x = np.pad(x, pad_width=1, mode='constant', constant_values=0)\n",
        "print(x)"
      ],
      "metadata": {
        "colab": {
          "base_uri": "https://localhost:8080/"
        },
        "id": "lQbWmUgNd04M",
        "outputId": "b85e30fc-56e9-4ea3-f74b-623273d7aba8"
      },
      "execution_count": 5,
      "outputs": [
        {
          "output_type": "stream",
          "name": "stdout",
          "text": [
            "Основная матрица:\n",
            "[[1. 1. 1.]\n",
            " [1. 1. 1.]\n",
            " [1. 1. 1.]]\n",
            "нолики вокруг основной матрицы\n",
            "[[0. 0. 0. 0. 0.]\n",
            " [0. 1. 1. 1. 0.]\n",
            " [0. 1. 1. 1. 0.]\n",
            " [0. 1. 1. 1. 0.]\n",
            " [0. 0. 0. 0. 0.]]\n"
          ]
        }
      ]
    },
    {
      "cell_type": "markdown",
      "source": [
        "19. Напишите программу NumPy, чтобы получить уникальные элементы массива.  \n"
      ],
      "metadata": {
        "id": "xmOxo0msentn"
      }
    },
    {
      "cell_type": "code",
      "source": [
        "x = np.array([10, 10, 20, 20, 30, 30])\n",
        "xx = np.unique(x)\n",
        "z = np.array([[1, 1] ,[2, 3]])\n",
        "zz = np.unique(z)\n",
        "print(x)\n",
        "print(xx)\n",
        "print(z)\n",
        "print(zz)"
      ],
      "metadata": {
        "colab": {
          "base_uri": "https://localhost:8080/"
        },
        "id": "A4K5tl44eoO_",
        "outputId": "c5a67a6c-af86-495e-dcf2-81c3e12a3953"
      },
      "execution_count": 19,
      "outputs": [
        {
          "output_type": "stream",
          "name": "stdout",
          "text": [
            "[10 10 20 20 30 30]\n",
            "[10 20 30]\n",
            "[[1 1]\n",
            " [2 3]]\n",
            "[1 2 3]\n"
          ]
        }
      ]
    },
    {
      "cell_type": "markdown",
      "source": [
        "Напишите программу NumPy для сортировки по первой, последней оси массива.  \n"
      ],
      "metadata": {
        "id": "EfQKY9DwhLSy"
      }
    },
    {
      "cell_type": "code",
      "source": [
        "import numpy as np\n",
        "a = np.array([[4, 6],[2, 1]])\n",
        "print(a)\n",
        "print(' ')\n",
        "x = np.sort(a, axis=0)\n",
        "print(x)\n",
        "print(' ')\n",
        "y = np.sort(x, axis=-1)\n",
        "print(y)"
      ],
      "metadata": {
        "colab": {
          "base_uri": "https://localhost:8080/"
        },
        "id": "n-Fcvylshdsy",
        "outputId": "6b8fe159-3e19-4564-faba-5d666f625e54"
      },
      "execution_count": 21,
      "outputs": [
        {
          "output_type": "stream",
          "name": "stdout",
          "text": [
            "[[4 6]\n",
            " [2 1]]\n",
            " \n",
            "[[2 1]\n",
            " [4 6]]\n",
            " \n",
            "[[1 2]\n",
            " [4 6]]\n"
          ]
        }
      ]
    },
    {
      "cell_type": "markdown",
      "source": [
        " 9. Напишите программу NumPy для вычисления число обусловленности данной матрицы.\n",
        "\n"
      ],
      "metadata": {
        "id": "pNv94A7DhwpI"
      }
    },
    {
      "cell_type": "code",
      "source": [
        "import numpy as np\n",
        "from numpy import linalg as LA\n",
        "a = np.array([[1, 0, -1], [0, 1, 0], [1, 0, 1]])\n",
        "print(\"Матрица:\")\n",
        "print(a)\n",
        "print(\"Число обусловленности:\")\n",
        "print(LA.cond(a))"
      ],
      "metadata": {
        "colab": {
          "base_uri": "https://localhost:8080/"
        },
        "id": "g0W_bt6WjDif",
        "outputId": "93044ae1-7d7a-4457-eea0-ce754cb4c158"
      },
      "execution_count": 23,
      "outputs": [
        {
          "output_type": "stream",
          "name": "stdout",
          "text": [
            "Матрица:\n",
            "[[ 1  0 -1]\n",
            " [ 0  1  0]\n",
            " [ 1  0  1]]\n",
            "Число обусловленности:\n",
            "1.4142135623730951\n"
          ]
        }
      ]
    },
    {
      "cell_type": "markdown",
      "source": [
        " 19. Напишите программу NumPy для вычисления нормы Фробениуса и номера условия данного массива."
      ],
      "metadata": {
        "id": "Mz_l70xejNH-"
      }
    },
    {
      "cell_type": "code",
      "source": [
        "import numpy as np\n",
        "a = np.array([[1, 0, -1], [0, 1, 0], [1, 0, 1]])\n",
        "print(\"Матрица:\")\n",
        "print(a)\n",
        "print(\"фробениус и Число обусловленности :\")\n",
        "print(np.linalg.norm(a, 'fro'))\n",
        "print(np.linalg.cond(a, 'fro'))"
      ],
      "metadata": {
        "colab": {
          "base_uri": "https://localhost:8080/"
        },
        "id": "ZqUNAGbMjRAL",
        "outputId": "ba9fe92f-7f42-497f-9764-935bdadf4500"
      },
      "execution_count": 25,
      "outputs": [
        {
          "output_type": "stream",
          "name": "stdout",
          "text": [
            "Матрица:\n",
            "[[ 1  0 -1]\n",
            " [ 0  1  0]\n",
            " [ 1  0  1]]\n",
            "фробениус и Число обусловленности :\n",
            "2.23606797749979\n",
            "3.1622776601683795\n"
          ]
        }
      ]
    },
    {
      "cell_type": "markdown",
      "source": [
        "Напишите программу NumPy, чтобы найти ближайшее значение из заданного значения в массиве.  \n"
      ],
      "metadata": {
        "id": "_d-LszRpkOw7"
      }
    },
    {
      "cell_type": "code",
      "source": [
        "import numpy as np\n",
        "x = np.array([[10, 0, -3], [12, 4, 2], [2, 5, 6]])\n",
        "v = -2\n",
        "n = x.flat[np.abs(x - v).argmin()]\n",
        "print(n)"
      ],
      "metadata": {
        "colab": {
          "base_uri": "https://localhost:8080/"
        },
        "id": "s8j0JuBwkPFw",
        "outputId": "2e6647e9-a52f-49f3-d489-961aa8991e5a"
      },
      "execution_count": 27,
      "outputs": [
        {
          "output_type": "stream",
          "name": "stdout",
          "text": [
            "-3\n"
          ]
        }
      ]
    },
    {
      "cell_type": "markdown",
      "source": [
        "Напишите программу NumPy для округления элементов массива до ближайшего целого числа.  \n"
      ],
      "metadata": {
        "id": "gcFJYEIkk1bf"
      }
    },
    {
      "cell_type": "code",
      "source": [
        "import numpy as np\n",
        "x = np.array([-.7, -1.5, -1.7, 0.3, 1.5, 1.8, 2.0])\n",
        "print(\"Массив:\")\n",
        "print(x)\n",
        "x = np.rint(x)\n",
        "print(\"Массив с округлением элементов:\")\n",
        "print(x)"
      ],
      "metadata": {
        "colab": {
          "base_uri": "https://localhost:8080/"
        },
        "id": "2kbf03sdk18g",
        "outputId": "a27f4028-f6cc-4045-a314-b00c39a5c70f"
      },
      "execution_count": 28,
      "outputs": [
        {
          "output_type": "stream",
          "name": "stdout",
          "text": [
            "Массив:\n",
            "[-0.7 -1.5 -1.7  0.3  1.5  1.8  2. ]\n",
            "Массив с округлением элементов:\n",
            "[-1. -2. -2.  0.  2.  2.  2.]\n"
          ]
        }
      ]
    },
    {
      "cell_type": "markdown",
      "source": [
        "Напишите программу NumPy для вычисления среднего по измерению в двумерном массиве.  \n"
      ],
      "metadata": {
        "id": "PL-9bZGslTxz"
      }
    },
    {
      "cell_type": "code",
      "source": [
        "import numpy as np\n",
        "x = np.array([[10, 30], [20, 60]])\n",
        "print(\"Массив:\")\n",
        "print(x)\n",
        "print(\"Ср знач для столбца:\")\n",
        "print(x.mean(axis=0))\n",
        "print(\"Ср знач для ряда:\")\n",
        "print(x.mean(axis=1))"
      ],
      "metadata": {
        "colab": {
          "base_uri": "https://localhost:8080/"
        },
        "id": "PDzN9wEhlUSQ",
        "outputId": "577a5bd6-a939-445e-adde-cff5e8a46bfa"
      },
      "execution_count": 29,
      "outputs": [
        {
          "output_type": "stream",
          "name": "stdout",
          "text": [
            "Массив:\n",
            "[[10 30]\n",
            " [20 60]]\n",
            "Ср знач для столбца:\n",
            "[15. 45.]\n",
            "Ср знач для ряда:\n",
            "[20. 40.]\n"
          ]
        }
      ]
    },
    {
      "cell_type": "markdown",
      "source": [
        "Напишите программу NumPy для вычисления разницы между соседними элементами, поэлементно для данного массива.  \n"
      ],
      "metadata": {
        "id": "dwB5o01CmIXv"
      }
    },
    {
      "cell_type": "code",
      "source": [
        "import numpy as np\n",
        "x = np.array([1, 3, 5, 7, 0])\n",
        "print(x)\n",
        "print(np.diff(x))"
      ],
      "metadata": {
        "colab": {
          "base_uri": "https://localhost:8080/"
        },
        "id": "YtzuUTd1mPOI",
        "outputId": "909b5e36-03e6-47db-d4f5-2b2b563ee683"
      },
      "execution_count": 30,
      "outputs": [
        {
          "output_type": "stream",
          "name": "stdout",
          "text": [
            "[1 3 5 7 0]\n",
            "[ 2  2  2 -7]\n"
          ]
        }
      ]
    },
    {
      "cell_type": "markdown",
      "source": [
        ". Напишите программу NumPy для вычисления взаимной корреляции двух заданных массивов.  "
      ],
      "metadata": {
        "id": "vtJFvmoYml9-"
      }
    },
    {
      "cell_type": "code",
      "source": [
        "import numpy as np\n",
        "x = np.array([0, 1, 3])\n",
        "y = np.array([2, 4, 5])\n",
        "print(\"\\nX:\")\n",
        "print(x)\n",
        "print(\"\\nY:\")\n",
        "print(y)\n",
        "print(\"\\nКорреляция двух массивов\\n\",np.cov(x, y))"
      ],
      "metadata": {
        "colab": {
          "base_uri": "https://localhost:8080/"
        },
        "id": "hln7mH3Vmoya",
        "outputId": "69077ced-8ffb-42a4-ff41-faed01217613"
      },
      "execution_count": 31,
      "outputs": [
        {
          "output_type": "stream",
          "name": "stdout",
          "text": [
            "\n",
            "X:\n",
            "[0 1 3]\n",
            "\n",
            "Y:\n",
            "[2 4 5]\n",
            "\n",
            "Корреляция двух массивов\n",
            " [[2.33333333 2.16666667]\n",
            " [2.16666667 2.33333333]]\n"
          ]
        }
      ]
    },
    {
      "cell_type": "markdown",
      "source": [
        "Напишите программу NumPy, чтобы удалить конечные пробелы всех элементов данного массива.  \n",
        "\n",
        "\n"
      ],
      "metadata": {
        "id": "cVqgxC9ZnRhQ"
      }
    },
    {
      "cell_type": "code",
      "source": [
        "import numpy as np\n",
        "x = np.array([' python упражнения ', ' PHP  ', ' java  ', '  C++'])\n",
        "print(\"Массив:\")\n",
        "print(x)\n",
        "rstripped_char = np.char.rstrip(x)\n",
        "print(\"\\nУбрали пробелы : \", rstripped_char)"
      ],
      "metadata": {
        "colab": {
          "base_uri": "https://localhost:8080/"
        },
        "id": "aNgQI10snRyl",
        "outputId": "0b42b55e-d390-490c-e77f-652d5ca06568"
      },
      "execution_count": 33,
      "outputs": [
        {
          "output_type": "stream",
          "name": "stdout",
          "text": [
            "Массив:\n",
            "[' python упражнения ' ' PHP  ' ' java  ' '  C++']\n",
            "\n",
            "Убрали пробелы :  [' python упражнения' ' PHP' ' java' '  C++']\n"
          ]
        }
      ]
    },
    {
      "cell_type": "markdown",
      "source": [
        "18. Напишите программу NumPy, чтобы проверить, начинается ли каждый элемент данного массива с «P».  \n"
      ],
      "metadata": {
        "id": "jkDdUv-ln-6x"
      }
    },
    {
      "cell_type": "code",
      "source": [
        "import numpy as np\n",
        "x1 = np.array(['Python', 'PHP', 'JS', 'пример', 'html'])\n",
        "print(\"\\nМассив:\")\n",
        "print(x1)\n",
        "print(\"Проверка на начало на букву 'P':\")\n",
        "r = np.char.startswith(x1, \"P\")\n",
        "print(r)"
      ],
      "metadata": {
        "colab": {
          "base_uri": "https://localhost:8080/"
        },
        "id": "LPfOwi3Vn_iT",
        "outputId": "4ec63c6e-e08b-48f4-ad1f-ba8fc133e586"
      },
      "execution_count": 34,
      "outputs": [
        {
          "output_type": "stream",
          "name": "stdout",
          "text": [
            "\n",
            "Массив:\n",
            "['Python' 'PHP' 'JS' 'пример' 'html']\n",
            "Проверка на начало на букву 'P':\n",
            "[ True  True False False False]\n"
          ]
        }
      ]
    }
  ]
}