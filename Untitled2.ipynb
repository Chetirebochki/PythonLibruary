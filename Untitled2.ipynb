{
  "nbformat": 4,
  "nbformat_minor": 0,
  "metadata": {
    "colab": {
      "provenance": [],
      "authorship_tag": "ABX9TyN5NFBKNOCnQLNrVVTKhc1d",
      "include_colab_link": true
    },
    "kernelspec": {
      "name": "python3",
      "display_name": "Python 3"
    },
    "language_info": {
      "name": "python"
    }
  },
  "cells": [
    {
      "cell_type": "markdown",
      "metadata": {
        "id": "view-in-github",
        "colab_type": "text"
      },
      "source": [
        "<a href=\"https://colab.research.google.com/github/Chetirebochki/PythonLibruary/blob/main/Untitled2.ipynb\" target=\"_parent\"><img src=\"https://colab.research.google.com/assets/colab-badge.svg\" alt=\"Open In Colab\"/></a>"
      ]
    },
    {
      "cell_type": "code",
      "execution_count": null,
      "metadata": {
        "id": "_-yjLoi_jrUm"
      },
      "outputs": [],
      "source": []
    },
    {
      "cell_type": "code",
      "source": [
        "import pandas as pd\n",
        "import scipy.stats as sps\n",
        "my_series = pd.date_range(\"20220101\", periods=10)\n",
        "my_series1=pd.Series(sps.norm.rvs(size=10), index=my_series)\n",
        "print(my_series1>0)"
      ],
      "metadata": {
        "colab": {
          "base_uri": "https://localhost:8080/"
        },
        "id": "B1ZPUowqjxgt",
        "outputId": "63f75874-e246-4543-cb11-66e6278f907e"
      },
      "execution_count": 3,
      "outputs": [
        {
          "output_type": "stream",
          "name": "stdout",
          "text": [
            "2022-01-01     True\n",
            "2022-01-02    False\n",
            "2022-01-03     True\n",
            "2022-01-04    False\n",
            "2022-01-05     True\n",
            "2022-01-06     True\n",
            "2022-01-07    False\n",
            "2022-01-08     True\n",
            "2022-01-09     True\n",
            "2022-01-10    False\n",
            "Freq: D, dtype: bool\n"
          ]
        }
      ]
    },
    {
      "cell_type": "code",
      "source": [
        "import pandas as pd\n",
        "import scipy.stats as sps\n",
        "my_series = pd.date_range(\"20220101\", periods=10)\n",
        "my_series1=pd.Series(sps.norm.rvs(size=10), index=my_series)\n",
        "print(my_series1[my_series1>0])"
      ],
      "metadata": {
        "colab": {
          "base_uri": "https://localhost:8080/"
        },
        "id": "WjnVkui3kWXB",
        "outputId": "e8f98b55-effd-4306-b9cb-a5f58cb072b6"
      },
      "execution_count": 4,
      "outputs": [
        {
          "output_type": "stream",
          "name": "stdout",
          "text": [
            "2022-01-01    1.256367\n",
            "2022-01-02    0.758101\n",
            "2022-01-03    1.763495\n",
            "2022-01-04    1.126906\n",
            "2022-01-07    0.127926\n",
            "2022-01-08    1.216452\n",
            "dtype: float64\n"
          ]
        }
      ]
    },
    {
      "cell_type": "code",
      "source": [
        "import numpy as np\n",
        "import pandas as pd\n",
        "s=pd.Series({\"a\":1,\"b\":2,\"c\":0})\n",
        "# ВАШ КОД\n",
        "s1=s.diff().dropna().expanding().apply(lambda x: np.mean(x**2))\n",
        "print(s1)"
      ],
      "metadata": {
        "colab": {
          "base_uri": "https://localhost:8080/"
        },
        "id": "dBN14IJ8kn7V",
        "outputId": "72dd7d93-41e8-4b59-8b66-c29ab80bf8f4"
      },
      "execution_count": 5,
      "outputs": [
        {
          "output_type": "stream",
          "name": "stdout",
          "text": [
            "b    1.0\n",
            "c    2.5\n",
            "dtype: float64\n"
          ]
        }
      ]
    },
    {
      "cell_type": "code",
      "source": [
        "import pandas as pd\n",
        "df = pd.DataFrame({'country': ['Kazakhstan', 'Russia', 'Belarus', 'Tajikistaan'],\n",
        "                   'population': [17.04, 143.5, 9.5, 10.5],\n",
        "                   'square': [2724902, 17125191, 207600, 143000]})\n",
        "print(df)"
      ],
      "metadata": {
        "colab": {
          "base_uri": "https://localhost:8080/"
        },
        "id": "7n3nfHvdmpQb",
        "outputId": "5bc7219c-0875-41ba-c6c3-e0d6cddcc72f"
      },
      "execution_count": 7,
      "outputs": [
        {
          "output_type": "stream",
          "name": "stdout",
          "text": [
            "       country  population    square\n",
            "0   Kazakhstan       17.04   2724902\n",
            "1       Russia      143.50  17125191\n",
            "2      Belarus        9.50    207600\n",
            "3  Tajikistaan       10.50    143000\n"
          ]
        }
      ]
    },
    {
      "cell_type": "code",
      "source": [
        "import pandas as pd\n",
        "df = pd.DataFrame({'country': ['Kazakhstan', 'Russia', 'Belarus', 'Tajikistaan'],\n",
        "                   'population': [17.04, 143.5, 9.5, 10.5],\n",
        "                   'square': [2724902, 17125191, 207600, 143000]})\n",
        "df['density'] = df['population'] / df['square'] * 1000000\n",
        "print(df)"
      ],
      "metadata": {
        "colab": {
          "base_uri": "https://localhost:8080/"
        },
        "id": "ji9Fs_IFnSlr",
        "outputId": "3fbb5ae3-e648-49ec-e4ba-ad9540dda14d"
      },
      "execution_count": 8,
      "outputs": [
        {
          "output_type": "stream",
          "name": "stdout",
          "text": [
            "       country  population    square    density\n",
            "0   Kazakhstan       17.04   2724902   6.253436\n",
            "1       Russia      143.50  17125191   8.379469\n",
            "2      Belarus        9.50    207600  45.761079\n",
            "3  Tajikistaan       10.50    143000  73.426573\n"
          ]
        }
      ]
    },
    {
      "cell_type": "code",
      "source": [
        "import scipy.stats as sps\n",
        "import pandas as pd\n",
        "d = {'one': pd.Series(range(6), index=list('abcdef')),\n",
        "     'two': pd.Series(range(7), index=list('abcdefg')),\n",
        "     'three': pd.Series(sps.norm.rvs(size=7), index=list('abcdefg'))}\n",
        "df = pd.DataFrame(d)\n",
        "print(df)\n",
        "print(df.head())\n",
        "print(df.tail(3))\n",
        "print(df.index)\n",
        "print(df.columns)\n",
        "print(df.values)\n",
        "print(df.describe())\n",
        "print(df['one'])\n",
        "print(df['one']['c'])"
      ],
      "metadata": {
        "colab": {
          "base_uri": "https://localhost:8080/"
        },
        "id": "zlGabws5oJld",
        "outputId": "a8cddb87-9fdc-44fa-906a-a28ecfa96b6e"
      },
      "execution_count": 12,
      "outputs": [
        {
          "output_type": "stream",
          "name": "stdout",
          "text": [
            "   one  two     three\n",
            "a  0.0    0  0.559117\n",
            "b  1.0    1  1.644670\n",
            "c  2.0    2  0.231231\n",
            "d  3.0    3 -0.069607\n",
            "e  4.0    4  0.460851\n",
            "f  5.0    5  1.322868\n",
            "g  NaN    6 -0.708902\n",
            "   one  two     three\n",
            "a  0.0    0  0.559117\n",
            "b  1.0    1  1.644670\n",
            "c  2.0    2  0.231231\n",
            "d  3.0    3 -0.069607\n",
            "e  4.0    4  0.460851\n",
            "   one  two     three\n",
            "e  4.0    4  0.460851\n",
            "f  5.0    5  1.322868\n",
            "g  NaN    6 -0.708902\n",
            "Index(['a', 'b', 'c', 'd', 'e', 'f', 'g'], dtype='object')\n",
            "Index(['one', 'two', 'three'], dtype='object')\n",
            "[[ 0.          0.          0.55911705]\n",
            " [ 1.          1.          1.64467009]\n",
            " [ 2.          2.          0.23123103]\n",
            " [ 3.          3.         -0.06960651]\n",
            " [ 4.          4.          0.4608514 ]\n",
            " [ 5.          5.          1.32286806]\n",
            " [        nan  6.         -0.70890224]]\n",
            "            one       two     three\n",
            "count  6.000000  7.000000  7.000000\n",
            "mean   2.500000  3.000000  0.491461\n",
            "std    1.870829  2.160247  0.801044\n",
            "min    0.000000  0.000000 -0.708902\n",
            "25%    1.250000  1.500000  0.080812\n",
            "50%    2.500000  3.000000  0.460851\n",
            "75%    3.750000  4.500000  0.940993\n",
            "max    5.000000  6.000000  1.644670\n",
            "a    0.0\n",
            "b    1.0\n",
            "c    2.0\n",
            "d    3.0\n",
            "e    4.0\n",
            "f    5.0\n",
            "g    NaN\n",
            "Name: one, dtype: float64\n",
            "2.0\n"
          ]
        }
      ]
    },
    {
      "cell_type": "code",
      "source": [
        "import numpy as np\n",
        "import pandas as pd\n",
        "import scipy.stats as sps\n",
        "# ВАШ КОД\n",
        "# создаем матрицу\n",
        "n, m = 20, 10\n",
        "data = sps.randint(low=-100, high=100).rvs(size=(n, m))\n",
        "cols = np.arange(1, m + 1)\n",
        "np.random.shuffle(cols)\n",
        "# создаем таблицу\n",
        "task_df = pd.DataFrame(data, columns=cols)\n",
        "# задаем условия для строк и столбцов\n",
        "col_mask = (cols % 2) == 0\n",
        "row_mask = np.sum(data % 2, axis=1) < (m / 2)\n",
        "# извлекаем данные по условию\n",
        "print(task_df.loc[row_mask, col_mask])"
      ],
      "metadata": {
        "colab": {
          "base_uri": "https://localhost:8080/"
        },
        "id": "zLax9pVUrX2g",
        "outputId": "c45d976b-6bc6-4d80-da3a-29e2901f5c47"
      },
      "execution_count": 19,
      "outputs": [
        {
          "output_type": "stream",
          "name": "stdout",
          "text": [
            "    2   6   10   4   8 \n",
            "0   82 -51  -8    4  44\n",
            "4   38 -64 -88  -94 -88\n",
            "5  -92 -82  94  -48 -77\n",
            "10 -28  26 -67  -62  92\n",
            "13  81  78 -96  -62  98\n",
            "15  32  25 -10 -100 -70\n"
          ]
        }
      ]
    }
  ]
}