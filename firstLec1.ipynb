{
  "nbformat": 4,
  "nbformat_minor": 0,
  "metadata": {
    "colab": {
      "provenance": [],
      "include_colab_link": true
    },
    "kernelspec": {
      "name": "python3",
      "display_name": "Python 3"
    },
    "language_info": {
      "name": "python"
    }
  },
  "cells": [
    {
      "cell_type": "markdown",
      "metadata": {
        "id": "view-in-github",
        "colab_type": "text"
      },
      "source": [
        "<a href=\"https://colab.research.google.com/github/Chetirebochki/PythonLibruary/blob/main/firstLec1.ipynb\" target=\"_parent\"><img src=\"https://colab.research.google.com/assets/colab-badge.svg\" alt=\"Open In Colab\"/></a>"
      ]
    },
    {
      "cell_type": "markdown",
      "source": [
        "first task"
      ],
      "metadata": {
        "id": "dYZO-M18STJz"
      }
    },
    {
      "cell_type": "code",
      "execution_count": null,
      "metadata": {
        "colab": {
          "base_uri": "https://localhost:8080/"
        },
        "id": "TPP48uwlRQ9C",
        "outputId": "6d0c8105-31e7-414b-de12-678910e503bf"
      },
      "outputs": [
        {
          "output_type": "stream",
          "name": "stdout",
          "text": [
            "0\n",
            "1\n",
            "2\n",
            "3\n",
            "4\n",
            "5\n",
            "6\n",
            "7\n",
            "8\n",
            "9\n"
          ]
        }
      ],
      "source": [
        "for i in range (0,10):\n",
        "  print(i)"
      ]
    },
    {
      "cell_type": "markdown",
      "source": [
        "Даны два числа a и b. Найти их среднее арифметическое: (a + b)/2."
      ],
      "metadata": {
        "id": "HLvM4F_1axrG"
      }
    },
    {
      "cell_type": "code",
      "source": [
        "a = 5\n",
        "b = 10\n",
        "c = (a+b)/2\n",
        "print(c)"
      ],
      "metadata": {
        "id": "pTSxWmG9aycs",
        "outputId": "93964781-3d07-4d61-bd58-2105f57ea794",
        "colab": {
          "base_uri": "https://localhost:8080/"
        }
      },
      "execution_count": null,
      "outputs": [
        {
          "output_type": "stream",
          "name": "stdout",
          "text": [
            "7.5\n"
          ]
        }
      ]
    },
    {
      "cell_type": "markdown",
      "source": [
        "Даны координаты двух противоположных вершин прямоугольника:\n",
        "(x1, y1), (x2, y2). Стороны прямоугольника параллельны осям координат.\n",
        "Найти периметр и площадь данного прямоугольника."
      ],
      "metadata": {
        "id": "ky2rn9JDbGi2"
      }
    },
    {
      "cell_type": "code",
      "source": [
        "x1 = 10\n",
        "y1 = 10\n",
        "x2 = 3\n",
        "y2 = 4\n",
        "\n",
        "P = 2*(abs(x1-x2) + abs(y1-y2))\n",
        "S = abs(x1-x2) * abs(y1-y2)\n",
        "print(P)\n",
        "print(S)"
      ],
      "metadata": {
        "id": "G7qvIItYbHNX",
        "outputId": "3be437de-8c57-459e-807c-d91437a785d5",
        "colab": {
          "base_uri": "https://localhost:8080/"
        }
      },
      "execution_count": null,
      "outputs": [
        {
          "output_type": "stream",
          "name": "stdout",
          "text": [
            "26\n",
            "42\n"
          ]
        }
      ]
    },
    {
      "cell_type": "markdown",
      "source": [
        "Дано двузначное число. Вывести число, полученное при переста-\n",
        "новке цифр исходного числа."
      ],
      "metadata": {
        "id": "Ey7hY-z1fKl9"
      }
    },
    {
      "cell_type": "code",
      "source": [
        "n1 = int(input(\"Введите целое число: \"))\n",
        "n2 = 0\n",
        " \n",
        "while n1 > 0:\n",
        "    # находим остаток - последнюю цифру\n",
        "    digit = n1 % 10\n",
        "    # делим нацело - удаляем последнюю цифру\n",
        "    n1 = n1 // 10\n",
        "    # увеличиваем разрядность второго числа\n",
        "    n2 = n2 * 10\n",
        "    # добавляем очередную цифру\n",
        "    n2 = n2 + digit  \n",
        " \n",
        "print('\"Обратное\" ему число:', n2)"
      ],
      "metadata": {
        "id": "2fsTrX5GfLSb",
        "outputId": "5d93a2f8-a1af-4b4d-c21a-50f93276cae5",
        "colab": {
          "base_uri": "https://localhost:8080/"
        }
      },
      "execution_count": null,
      "outputs": [
        {
          "output_type": "stream",
          "name": "stdout",
          "text": [
            "Введите целое число: 43\n",
            "\"Обратное\" ему число: 34\n"
          ]
        }
      ]
    },
    {
      "cell_type": "markdown",
      "source": [
        "С начала суток прошло N секунд (N — целое). Найти количество\n",
        "полных минут, прошедших с начала суток."
      ],
      "metadata": {
        "id": "TtpiC2nmgyFZ"
      }
    },
    {
      "cell_type": "markdown",
      "source": [],
      "metadata": {
        "id": "FTNCL-6OinxK"
      }
    },
    {
      "cell_type": "code",
      "source": [
        "N = int(input(\"Введите количество секунд:\"))\n",
        "print(\"количество минут:\",N//60)"
      ],
      "metadata": {
        "id": "CHsd7T3Tgylg",
        "outputId": "ee449296-953b-47c7-e43e-f1e607cde71d",
        "colab": {
          "base_uri": "https://localhost:8080/"
        }
      },
      "execution_count": null,
      "outputs": [
        {
          "output_type": "stream",
          "name": "stdout",
          "text": [
            "Введите количество секунд:123\n",
            "количество минут 2\n"
          ]
        }
      ]
    },
    {
      "cell_type": "markdown",
      "source": [
        "Даны два целых числа: A, B. Проверить истинность высказывания:\n",
        "«Каждое из чисел A и B нечетное»."
      ],
      "metadata": {
        "id": "wlW3OpatiZht"
      }
    },
    {
      "cell_type": "code",
      "source": [
        "a = int(input('A='))\n",
        "b = int(input('B='))\n",
        "if a%2==1 and b%2 == 1:\n",
        "   print(\"A и B нечетны \")\n",
        "else:\n",
        "   print('это не так')"
      ],
      "metadata": {
        "id": "21BTsYETiaAF",
        "outputId": "0b83fd4c-5c5e-42da-c944-fe20afd0eff1",
        "colab": {
          "base_uri": "https://localhost:8080/"
        }
      },
      "execution_count": null,
      "outputs": [
        {
          "output_type": "stream",
          "name": "stdout",
          "text": [
            "A=3\n",
            "B=3\n",
            "A и B нечетны \n"
          ]
        }
      ]
    },
    {
      "cell_type": "markdown",
      "source": [
        "Проверить истинность высказывания: «Среди трех данных целых\n",
        "чисел есть хотя бы одна пара взаимно противоположных»."
      ],
      "metadata": {
        "id": "zjFETaWHkb9d"
      }
    },
    {
      "cell_type": "code",
      "source": [
        "a = int(input('A='))\n",
        "b = int(input('B='))\n",
        "c = int(input('С='))\n",
        "\n",
        "ab = (a == -b)\n",
        "bc = (b == -c)\n",
        "ac = (a == -c)\n",
        "x = ab or bc or ac\n",
        "print(\"A противоположно B: \", ab)\n",
        "print(\"B противоположно C: \", bc)\n",
        "print(\"A противоположно C: \", ac)\n",
        "print(\"Есть хотя бы одна пара взаимно противоположных: \", x)"
      ],
      "metadata": {
        "id": "pEudTT31kcnU",
        "outputId": "122264ec-6674-456f-9b08-6ad57294b0e6",
        "colab": {
          "base_uri": "https://localhost:8080/"
        }
      },
      "execution_count": 5,
      "outputs": [
        {
          "output_type": "stream",
          "name": "stdout",
          "text": [
            "A=1\n",
            "B=-1\n",
            "С=2\n",
            "A противоположно B:  True\n",
            "B противоположно C:  False\n",
            "A противоположно C:  False\n",
            "Есть хотя бы одна пара взаимно противоположных:  True\n"
          ]
        }
      ]
    },
    {
      "cell_type": "markdown",
      "source": [
        "Даны два числа. Вывести вначале большее, а затем меньшее из них."
      ],
      "metadata": {
        "id": "LhYFCPxFlJm1"
      }
    },
    {
      "cell_type": "code",
      "source": [
        "import random\n",
        "\n",
        "A = random.randrange(-3,3)\n",
        "B = random.randrange(-3,3)\n",
        "print(\"Два числа:\", A, B)\n",
        "\n",
        "if A > B:\n",
        "    print(A,B)\n",
        "else:\n",
        "    print(B,A)"
      ],
      "metadata": {
        "id": "DKEm-OSAmc3n",
        "outputId": "842396cf-64cc-4bc0-da32-90bd8190ecfa",
        "colab": {
          "base_uri": "https://localhost:8080/"
        }
      },
      "execution_count": 6,
      "outputs": [
        {
          "output_type": "stream",
          "name": "stdout",
          "text": [
            "Два числа: 0 -3\n",
            "0 -3\n"
          ]
        }
      ]
    },
    {
      "cell_type": "markdown",
      "source": [
        "Даны три целых числа, одно из которых отлично от двух других, рав-\n",
        "ных между собой. Определить порядковый номер числа, отличного от\n",
        "остальных."
      ],
      "metadata": {
        "id": "m6nSHSp5nZ8h"
      }
    },
    {
      "cell_type": "code",
      "source": [
        "import random\n",
        "\n",
        "def RandNum():\n",
        "    l = []    \n",
        "    x1,x2 = random.sample(range(-10, 10), 2)\n",
        "    N = random.randrange(1,4)\n",
        "    if N == 1:\n",
        "        l.append(x1)\n",
        "        l.append(x1)\n",
        "        l.append(x2)\n",
        "    elif N == 2:\n",
        "        l.append(x1)\n",
        "        l.append(x2)\n",
        "        l.append(x2)\n",
        "    else:\n",
        "        l.append(x2)\n",
        "        l.append(x1)\n",
        "        l.append(x2)\n",
        "    return l\n",
        "        \n",
        "A,B,C = RandNum()\n",
        "\n",
        "print(\"Число A:\", A)\n",
        "print(\"Число B:\", B)\n",
        "print(\"Число C:\", C)\n",
        "\n",
        "if A == B:\n",
        "    print(\"C\")\n",
        "elif A == C:\n",
        "    print(\"B\")\n",
        "else:\n",
        "  print(\"A\")"
      ],
      "metadata": {
        "id": "RmQugVlGmBx8",
        "outputId": "9a8043cc-6117-4a40-fc8e-8b172ae91f32",
        "colab": {
          "base_uri": "https://localhost:8080/"
        }
      },
      "execution_count": 8,
      "outputs": [
        {
          "output_type": "stream",
          "name": "stdout",
          "text": [
            "Число A: -5\n",
            "Число B: 5\n",
            "Число C: -5\n",
            "B\n"
          ]
        }
      ]
    },
    {
      "cell_type": "code",
      "source": [],
      "metadata": {
        "id": "PQsQrBGomDQb"
      },
      "execution_count": null,
      "outputs": []
    }
  ]
}