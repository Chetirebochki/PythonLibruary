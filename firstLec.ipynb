{
  "nbformat": 4,
  "nbformat_minor": 0,
  "metadata": {
    "colab": {
      "provenance": [],
      "include_colab_link": true
    },
    "kernelspec": {
      "name": "python3",
      "display_name": "Python 3"
    },
    "language_info": {
      "name": "python"
    }
  },
  "cells": [
    {
      "cell_type": "markdown",
      "metadata": {
        "id": "view-in-github",
        "colab_type": "text"
      },
      "source": [
        "<a href=\"https://colab.research.google.com/github/Chetirebochki/PythonLibruary/blob/main/firstLec.ipynb\" target=\"_parent\"><img src=\"https://colab.research.google.com/assets/colab-badge.svg\" alt=\"Open In Colab\"/></a>"
      ]
    },
    {
      "cell_type": "markdown",
      "source": [
        "first task"
      ],
      "metadata": {
        "id": "dYZO-M18STJz"
      }
    },
    {
      "cell_type": "code",
      "execution_count": 1,
      "metadata": {
        "colab": {
          "base_uri": "https://localhost:8080/"
        },
        "id": "TPP48uwlRQ9C",
        "outputId": "6d0c8105-31e7-414b-de12-678910e503bf"
      },
      "outputs": [
        {
          "output_type": "stream",
          "name": "stdout",
          "text": [
            "0\n",
            "1\n",
            "2\n",
            "3\n",
            "4\n",
            "5\n",
            "6\n",
            "7\n",
            "8\n",
            "9\n"
          ]
        }
      ],
      "source": [
        "for i in range (0,10):\n",
        "  print(i)"
      ]
    },
    {
      "cell_type": "markdown",
      "source": [
        "Даны два числа a и b. Найти их среднее арифметическое: (a + b)/2."
      ],
      "metadata": {
        "id": "HLvM4F_1axrG"
      }
    },
    {
      "cell_type": "code",
      "source": [
        "a = 5\n",
        "b = 10\n",
        "c = (a+b)/2\n",
        "print(c)"
      ],
      "metadata": {
        "id": "pTSxWmG9aycs",
        "outputId": "93964781-3d07-4d61-bd58-2105f57ea794",
        "colab": {
          "base_uri": "https://localhost:8080/"
        }
      },
      "execution_count": 2,
      "outputs": [
        {
          "output_type": "stream",
          "name": "stdout",
          "text": [
            "7.5\n"
          ]
        }
      ]
    },
    {
      "cell_type": "markdown",
      "source": [
        "Даны координаты двух противоположных вершин прямоугольника:\n",
        "(x1, y1), (x2, y2). Стороны прямоугольника параллельны осям координат.\n",
        "Найти периметр и площадь данного прямоугольника."
      ],
      "metadata": {
        "id": "ky2rn9JDbGi2"
      }
    },
    {
      "cell_type": "code",
      "source": [
        "x1 = 10\n",
        "y1 = 10\n",
        "x2 = 3\n",
        "y2 = 4\n",
        "\n",
        "P = 2*(abs(x1-x2) + abs(y1-y2))\n",
        "S = abs(x1-x2) * abs(y1-y2)\n",
        "print(P)\n",
        "print(S)"
      ],
      "metadata": {
        "id": "G7qvIItYbHNX",
        "outputId": "3be437de-8c57-459e-807c-d91437a785d5",
        "colab": {
          "base_uri": "https://localhost:8080/"
        }
      },
      "execution_count": 3,
      "outputs": [
        {
          "output_type": "stream",
          "name": "stdout",
          "text": [
            "26\n",
            "42\n"
          ]
        }
      ]
    },
    {
      "cell_type": "markdown",
      "source": [
        "Дано двузначное число. Вывести число, полученное при переста-\n",
        "новке цифр исходного числа."
      ],
      "metadata": {
        "id": "Ey7hY-z1fKl9"
      }
    },
    {
      "cell_type": "code",
      "source": [
        "n1 = int(input(\"Введите целое число: \"))\n",
        "n2 = 0\n",
        " \n",
        "while n1 > 0:\n",
        "    # находим остаток - последнюю цифру\n",
        "    digit = n1 % 10\n",
        "    # делим нацело - удаляем последнюю цифру\n",
        "    n1 = n1 // 10\n",
        "    # увеличиваем разрядность второго числа\n",
        "    n2 = n2 * 10\n",
        "    # добавляем очередную цифру\n",
        "    n2 = n2 + digit  \n",
        " \n",
        "print('\"Обратное\" ему число:', n2)"
      ],
      "metadata": {
        "id": "2fsTrX5GfLSb",
        "outputId": "5d93a2f8-a1af-4b4d-c21a-50f93276cae5",
        "colab": {
          "base_uri": "https://localhost:8080/"
        }
      },
      "execution_count": 5,
      "outputs": [
        {
          "output_type": "stream",
          "name": "stdout",
          "text": [
            "Введите целое число: 43\n",
            "\"Обратное\" ему число: 34\n"
          ]
        }
      ]
    },
    {
      "cell_type": "markdown",
      "source": [
        "С начала суток прошло N секунд (N — целое). Найти количество\n",
        "полных минут, прошедших с начала суток."
      ],
      "metadata": {
        "id": "TtpiC2nmgyFZ"
      }
    },
    {
      "cell_type": "markdown",
      "source": [],
      "metadata": {
        "id": "FTNCL-6OinxK"
      }
    },
    {
      "cell_type": "code",
      "source": [
        "N = int(input(\"Введите количество секунд:\"))\n",
        "print(\"количество минут:\",N//60)"
      ],
      "metadata": {
        "id": "CHsd7T3Tgylg",
        "outputId": "ee449296-953b-47c7-e43e-f1e607cde71d",
        "colab": {
          "base_uri": "https://localhost:8080/"
        }
      },
      "execution_count": 7,
      "outputs": [
        {
          "output_type": "stream",
          "name": "stdout",
          "text": [
            "Введите количество секунд:123\n",
            "количество минут 2\n"
          ]
        }
      ]
    },
    {
      "cell_type": "markdown",
      "source": [
        "Даны два целых числа: A, B. Проверить истинность высказывания:\n",
        "«Каждое из чисел A и B нечетное»."
      ],
      "metadata": {
        "id": "wlW3OpatiZht"
      }
    },
    {
      "cell_type": "code",
      "source": [
        "a = int(input('A='))\n",
        "b = int(input('B='))\n",
        "if a%2==1 and b%2 == 1:\n",
        "   print(\"A и B нечетны \")\n",
        "else:\n",
        "   print('это не так')"
      ],
      "metadata": {
        "id": "21BTsYETiaAF",
        "outputId": "0b83fd4c-5c5e-42da-c944-fe20afd0eff1",
        "colab": {
          "base_uri": "https://localhost:8080/"
        }
      },
      "execution_count": 12,
      "outputs": [
        {
          "output_type": "stream",
          "name": "stdout",
          "text": [
            "A=3\n",
            "B=3\n",
            "A и B нечетны \n"
          ]
        }
      ]
    },
    {
      "cell_type": "markdown",
      "source": [
        "Проверить истинность высказывания: «Среди трех данных целых\n",
        "чисел есть хотя бы одна пара взаимно противоположных»."
      ],
      "metadata": {
        "id": "zjFETaWHkb9d"
      }
    },
    {
      "cell_type": "code",
      "source": [
        "a = int(input('A='))\n",
        "b = int(input('B='))\n",
        "с = int(input('С='))\n",
        "\n",
        "if a==(b*-1) or a==(c*-1) or b==(c*-1) :\n",
        "    print(\"Есть взаимно противоположные числа\")\n",
        "else:\n",
        "   print(\"Взавимно противоположных чисел нет!\")"
      ],
      "metadata": {
        "id": "pEudTT31kcnU",
        "outputId": "60fee89a-cc87-4752-a2d8-d85afb40a6ef",
        "colab": {
          "base_uri": "https://localhost:8080/"
        }
      },
      "execution_count": 14,
      "outputs": [
        {
          "output_type": "stream",
          "name": "stdout",
          "text": [
            "A=1\n",
            "B=-1\n",
            "С=2\n",
            "Есть взаимно противоположные числа\n"
          ]
        }
      ]
    },
    {
      "cell_type": "markdown",
      "source": [
        "Даны два числа. Вывести вначале большее, а затем меньшее из них."
      ],
      "metadata": {
        "id": "LhYFCPxFlJm1"
      }
    },
    {
      "cell_type": "code",
      "source": [],
      "metadata": {
        "id": "qtuhtG8JlOlb"
      },
      "execution_count": null,
      "outputs": []
    },
    {
      "cell_type": "code",
      "source": [],
      "metadata": {
        "id": "RmQugVlGmBx8"
      },
      "execution_count": null,
      "outputs": []
    },
    {
      "cell_type": "code",
      "source": [],
      "metadata": {
        "id": "PQsQrBGomDQb"
      },
      "execution_count": null,
      "outputs": []
    }
  ]
}