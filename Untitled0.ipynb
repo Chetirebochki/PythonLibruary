{
  "nbformat": 4,
  "nbformat_minor": 0,
  "metadata": {
    "colab": {
      "provenance": [],
      "authorship_tag": "ABX9TyOEJ7OUTcSFIqQkAgK4Xass",
      "include_colab_link": true
    },
    "kernelspec": {
      "name": "python3",
      "display_name": "Python 3"
    },
    "language_info": {
      "name": "python"
    }
  },
  "cells": [
    {
      "cell_type": "markdown",
      "metadata": {
        "id": "view-in-github",
        "colab_type": "text"
      },
      "source": [
        "<a href=\"https://colab.research.google.com/github/Chetirebochki/PythonLibruary/blob/main/Untitled0.ipynb\" target=\"_parent\"><img src=\"https://colab.research.google.com/assets/colab-badge.svg\" alt=\"Open In Colab\"/></a>"
      ]
    },
    {
      "cell_type": "code",
      "execution_count": 5,
      "metadata": {
        "colab": {
          "base_uri": "https://localhost:8080/"
        },
        "id": "7wwKICengbnT",
        "outputId": "731247bb-5257-4493-ffc4-a0a0b65056af"
      },
      "outputs": [
        {
          "output_type": "stream",
          "name": "stdout",
          "text": [
            "A:\n",
            "[[0 1]\n",
            " [2 3]]\n",
            "B:\n",
            "[[4 5 6]\n",
            " [7 8 9]]\n",
            "C:\n",
            "[[4 5]\n",
            " [6 7]\n",
            " [8 9]]\n",
            "np.hstack((a, b)):\n",
            "[[0 1 4 5 6]\n",
            " [2 3 7 8 9]]\n",
            "np.vstack((a, c)):\n",
            "[[0 1]\n",
            " [2 3]\n",
            " [4 5]\n",
            " [6 7]\n",
            " [8 9]]\n"
          ]
        }
      ],
      "source": [
        "import numpy as np\n",
        "a = np.array([[0, 1], [2, 3]])\n",
        "b = np.array([[4, 5, 6], [7, 8, 9]])\n",
        "c = np.array([[4, 5], [6, 7], [8,\n",
        "9]])\n",
        "print(\"A:\")\n",
        "print(a)\n",
        "print(\"B:\")\n",
        "print(b)\n",
        "print(\"C:\")\n",
        "print(c)\n",
        "\n",
        "print(\"np.hstack((a, b)):\")\n",
        "d=np.hstack((a, b))\n",
        "print(d)\n",
        "print(\"np.vstack((a, c)):\")\n",
        "e=np.vstack((a, c))\n",
        "print(e)"
      ]
    },
    {
      "cell_type": "code",
      "source": [
        "import numpy as np\n",
        "a = np.array([[4, 2, 0], [9, 3, 7], [1, 2, 1]],\n",
        "float)\n",
        "vals, vecs = np.linalg.eig(a)\n",
        "\n",
        "print(a)\n",
        "\n",
        "print(vals)\n",
        "\n",
        "\n",
        "print(vecs)"
      ],
      "metadata": {
        "colab": {
          "base_uri": "https://localhost:8080/"
        },
        "id": "pAUKJEqpmRRk",
        "outputId": "900f6baf-c095-4e17-acbe-2d4f09aa6f3e"
      },
      "execution_count": 7,
      "outputs": [
        {
          "output_type": "stream",
          "name": "stdout",
          "text": [
            "[[4. 2. 0.]\n",
            " [9. 3. 7.]\n",
            " [1. 2. 1.]]\n",
            "[ 8.85591316  1.9391628  -2.79507597]\n",
            "[[-0.3663565  -0.54736745  0.25928158]\n",
            " [-0.88949768  0.5640176  -0.88091903]\n",
            " [-0.27308752  0.61828231  0.39592263]]\n"
          ]
        }
      ]
    },
    {
      "cell_type": "code",
      "source": [
        "import numpy as np\n",
        "a = np.array([[4, 2, 0], [9, 3, 7], [1, 2, 1]],\n",
        "float)\n",
        "b = np.linalg.inv(a)\n",
        "c=np.dot(a, b)\n",
        "\n",
        "print(a)\n",
        "\n",
        "print(b)\n",
        "\n",
        "print(c)"
      ],
      "metadata": {
        "colab": {
          "base_uri": "https://localhost:8080/"
        },
        "id": "DMlJvh6ImX3H",
        "outputId": "4bd3a1f2-5d4b-428f-dad4-e32a7cb9f751"
      },
      "execution_count": 9,
      "outputs": [
        {
          "output_type": "stream",
          "name": "stdout",
          "text": [
            "[[4. 2. 0.]\n",
            " [9. 3. 7.]\n",
            " [1. 2. 1.]]\n",
            "[[ 0.22916667  0.04166667 -0.29166667]\n",
            " [ 0.04166667 -0.08333333  0.58333333]\n",
            " [-0.3125      0.125       0.125     ]]\n",
            "[[1.00000000e+00 5.55111512e-17 0.00000000e+00]\n",
            " [0.00000000e+00 1.00000000e+00 2.22044605e-16]\n",
            " [0.00000000e+00 1.38777878e-17 1.00000000e+00]]\n"
          ]
        }
      ]
    },
    {
      "cell_type": "code",
      "source": [
        "import numpy as np\n",
        "a = np.array([[1, 3,-1], [5, 2,0], [0,5,1]],\n",
        "float)\n",
        "b=np.linalg.matrix_power(a, 2)\n",
        "\n",
        "print(a)\n",
        "print(b)"
      ],
      "metadata": {
        "colab": {
          "base_uri": "https://localhost:8080/"
        },
        "id": "HBqPh8xEmhAG",
        "outputId": "f7704f45-f18c-4728-9df4-3168c9aa8738"
      },
      "execution_count": 10,
      "outputs": [
        {
          "output_type": "stream",
          "name": "stdout",
          "text": [
            "[[ 1.  3. -1.]\n",
            " [ 5.  2.  0.]\n",
            " [ 0.  5.  1.]]\n",
            "[[16.  4. -2.]\n",
            " [15. 19. -5.]\n",
            " [25. 15.  1.]]\n"
          ]
        }
      ]
    },
    {
      "cell_type": "code",
      "source": [
        "import numpy as np\n",
        "import numpy as np\n",
        "a = np.array([[1, 3,-1], [5, 2,0], [0,5,1]],\n",
        "float)\n",
        "b=a.T\n",
        "\n",
        "print(a)\n",
        "\n",
        "print(b)"
      ],
      "metadata": {
        "colab": {
          "base_uri": "https://localhost:8080/"
        },
        "id": "R5xAyNk7moen",
        "outputId": "7ae7153e-7fe9-4949-8105-e70d5d10bf86"
      },
      "execution_count": 12,
      "outputs": [
        {
          "output_type": "stream",
          "name": "stdout",
          "text": [
            "[[ 1.  3. -1.]\n",
            " [ 5.  2.  0.]\n",
            " [ 0.  5.  1.]]\n",
            "[[ 1.  5.  0.]\n",
            " [ 3.  2.  5.]\n",
            " [-1.  0.  1.]]\n"
          ]
        }
      ]
    },
    {
      "cell_type": "code",
      "source": [
        "import numpy as np\n",
        "a = np.array([[4, 5, 6], [7, 8,\n",
        "9]])\n",
        "\n",
        "print(a)\n",
        "\n",
        "b=a.sum()\n",
        "print(b)\n",
        "\n",
        "c=a.sum(axis=0)\n",
        "print(c)\n",
        "\n",
        "d=a.sum(axis=1)\n",
        "print(d)"
      ],
      "metadata": {
        "colab": {
          "base_uri": "https://localhost:8080/"
        },
        "id": "T06OBPkLmvSX",
        "outputId": "51172f46-1f18-469f-9670-b160e7597ad1"
      },
      "execution_count": 14,
      "outputs": [
        {
          "output_type": "stream",
          "name": "stdout",
          "text": [
            "[[4 5 6]\n",
            " [7 8 9]]\n",
            "39\n",
            "[11 13 15]\n",
            "[15 24]\n"
          ]
        }
      ]
    },
    {
      "cell_type": "code",
      "source": [
        "import numpy as np\n",
        "a = np.array([[0, 1], [2,\n",
        "3]])\n",
        "\n",
        "print(a)\n",
        "\n",
        "b=np.trace(a)\n",
        "print(b)"
      ],
      "metadata": {
        "colab": {
          "base_uri": "https://localhost:8080/"
        },
        "id": "97zTr_JMm5kG",
        "outputId": "9649dcd1-f0ce-4e3b-900f-08449c575663"
      },
      "execution_count": 15,
      "outputs": [
        {
          "output_type": "stream",
          "name": "stdout",
          "text": [
            "[[0 1]\n",
            " [2 3]]\n",
            "3\n"
          ]
        }
      ]
    },
    {
      "cell_type": "code",
      "source": [
        "import numpy as np\n",
        "y = np.arange(1, 6)\n",
        "a = np.arange(3, -2, -1)\n",
        "\n",
        "print(y)\n",
        "\n",
        "print(a)\n",
        "rss = np.sum((y -\n",
        "a)**2)\n",
        "\n",
        "print(rss)"
      ],
      "metadata": {
        "colab": {
          "base_uri": "https://localhost:8080/"
        },
        "id": "3tLfvBktm-_O",
        "outputId": "d1defa07-bb9b-45c6-b674-e2495548e6d4"
      },
      "execution_count": 16,
      "outputs": [
        {
          "output_type": "stream",
          "name": "stdout",
          "text": [
            "[1 2 3 4 5]\n",
            "[ 3  2  1  0 -1]\n",
            "60\n"
          ]
        }
      ]
    },
    {
      "cell_type": "code",
      "source": [
        "from calendar import c\n",
        "import numpy as np\n",
        "a = np.array([[1, 3,4], [5, 2, 3]],\n",
        "float)\n",
        "U, s, Vh = np.linalg.svd(a)\n",
        "print(\"A:\")\n",
        "print(a)\n",
        "print(\"U:\")\n",
        "print(U)\n",
        "print(\"s:\")\n",
        "print(s)\n",
        "print(\"vh:\")\n",
        "print(Vh)"
      ],
      "metadata": {
        "colab": {
          "base_uri": "https://localhost:8080/"
        },
        "id": "qZBR9xjMnPxf",
        "outputId": "3f59d708-4e7c-424b-d6fa-e09e393fa6e0"
      },
      "execution_count": 17,
      "outputs": [
        {
          "output_type": "stream",
          "name": "stdout",
          "text": [
            "A:\n",
            "[[1. 3. 4.]\n",
            " [5. 2. 3.]]\n",
            "U:\n",
            "[[-0.6113829  -0.79133492]\n",
            " [-0.79133492  0.6113829 ]]\n",
            "s:\n",
            "[7.46791327 2.86884495]\n",
            "vh:\n",
            "[[-0.61169129 -0.45753324 -0.64536587]\n",
            " [ 0.78971838 -0.40129005 -0.46401635]\n",
            " [-0.046676   -0.79349205  0.60678804]]\n"
          ]
        }
      ]
    }
  ]
}